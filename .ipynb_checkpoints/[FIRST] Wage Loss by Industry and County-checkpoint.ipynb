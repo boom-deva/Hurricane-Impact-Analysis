{
 "cells": [
  {
   "cell_type": "markdown",
   "metadata": {},
   "source": [
    "# Wage Loss by Industry and County from Hurricane Harvey\n"
   ]
  },
  {
   "cell_type": "markdown",
   "metadata": {},
   "source": [
    "## Table of Contents\n",
    "- [Problem Statement](#Problem-Statement)\n",
    "- [Import Packages](#Import-Packages)\n",
    "- [Primary EDA](#Primary-EDA)\n",
    "- [Secondary EDA](#Secondary-EDA)\n",
    "- [Missing Data](#Missing-Data)\n",
    "- [Splitting Dataframes by Industry](#Splitting-Dataframes-by-Industry)\n",
    "- [Next Steps](#Next-Steps)\n",
    "\n"
   ]
  },
  {
   "cell_type": "markdown",
   "metadata": {},
   "source": [
    "### Problem Statement \n",
    "Natural disasters are becoming more economically devastating to the areas that they impact. Given data from job sites such as Indeed and Glassdoor, is it possible to build a predictive model to estimate the economic losses for an area affected by a natural disaster? "
   ]
  },
  {
   "cell_type": "markdown",
   "metadata": {},
   "source": [
    "## Import Packages"
   ]
  },
  {
   "cell_type": "code",
   "execution_count": 1,
   "metadata": {},
   "outputs": [],
   "source": [
    "import pandas as pd\n",
    "import numpy as np\n",
    "import matplotlib.pyplot as plt\n",
    "import seaborn as sns\n",
    "\n",
    "%matplotlib inline"
   ]
  },
  {
   "cell_type": "markdown",
   "metadata": {},
   "source": [
    "## Primary EDA"
   ]
  },
  {
   "cell_type": "code",
   "execution_count": 2,
   "metadata": {},
   "outputs": [],
   "source": [
    "# read in csv file for q2 and save as dataframe\n",
    "q2_df = pd.read_csv('./data/BLS_Data_Q2_17/q2_df.csv')\n",
    "\n",
    "# examine q2_df \n",
    "q2_df.head()\n",
    "\n",
    "#check shape of q2_df\n",
    "q2_df.shape\n",
    "\n",
    "# drop extra index column 'Unnamed: 0'\n",
    "q2_df.drop(columns=['Unnamed: 0'],inplace=True)"
   ]
  },
  {
   "cell_type": "code",
   "execution_count": 3,
   "metadata": {},
   "outputs": [
    {
     "data": {
      "text/plain": [
       "(2724, 10)"
      ]
     },
     "execution_count": 3,
     "metadata": {},
     "output_type": "execute_result"
    }
   ],
   "source": [
    "# read in q3 csv data and save as dataframe\n",
    "q3_df = pd.read_csv('./data/BLS_Data_Q3_17/q3_df.csv')\n",
    "\n",
    "#check shape of q3_df\n",
    "q3_df.shape"
   ]
  },
  {
   "cell_type": "code",
   "execution_count": 4,
   "metadata": {},
   "outputs": [
    {
     "data": {
      "text/html": [
       "<div>\n",
       "<style scoped>\n",
       "    .dataframe tbody tr th:only-of-type {\n",
       "        vertical-align: middle;\n",
       "    }\n",
       "\n",
       "    .dataframe tbody tr th {\n",
       "        vertical-align: top;\n",
       "    }\n",
       "\n",
       "    .dataframe thead th {\n",
       "        text-align: right;\n",
       "    }\n",
       "</style>\n",
       "<table border=\"1\" class=\"dataframe\">\n",
       "  <thead>\n",
       "    <tr style=\"text-align: right;\">\n",
       "      <th></th>\n",
       "      <th>Unnamed: 0</th>\n",
       "      <th>Unnamed: 0.1</th>\n",
       "      <th>Area Name</th>\n",
       "      <th>Quarter</th>\n",
       "      <th>No Of Establishments</th>\n",
       "      <th>Employment</th>\n",
       "      <th>One-Year Employment Gain/Loss (Percent)</th>\n",
       "      <th>Average Weekly Wages</th>\n",
       "      <th>On-Year Weekly Wages Gain/Loss (Percent)</th>\n",
       "      <th>Industry</th>\n",
       "      <th>FIPS</th>\n",
       "    </tr>\n",
       "  </thead>\n",
       "  <tbody>\n",
       "    <tr>\n",
       "      <th>0</th>\n",
       "      <td>0</td>\n",
       "      <td>0</td>\n",
       "      <td>Anderson County</td>\n",
       "      <td>Fourth Quarter</td>\n",
       "      <td>106.0</td>\n",
       "      <td>607.0</td>\n",
       "      <td>-12.8</td>\n",
       "      <td>939.0</td>\n",
       "      <td>27.2</td>\n",
       "      <td>Construction</td>\n",
       "      <td>48001.0</td>\n",
       "    </tr>\n",
       "    <tr>\n",
       "      <th>1</th>\n",
       "      <td>1</td>\n",
       "      <td>1</td>\n",
       "      <td>Andrews County</td>\n",
       "      <td>Fourth Quarter</td>\n",
       "      <td>37.0</td>\n",
       "      <td>821.0</td>\n",
       "      <td>9.8</td>\n",
       "      <td>1575.0</td>\n",
       "      <td>12.7</td>\n",
       "      <td>Construction</td>\n",
       "      <td>48003.0</td>\n",
       "    </tr>\n",
       "    <tr>\n",
       "      <th>2</th>\n",
       "      <td>2</td>\n",
       "      <td>2</td>\n",
       "      <td>Angelina County</td>\n",
       "      <td>Fourth Quarter</td>\n",
       "      <td>147.0</td>\n",
       "      <td>1369.0</td>\n",
       "      <td>-8.7</td>\n",
       "      <td>856.0</td>\n",
       "      <td>6.3</td>\n",
       "      <td>Construction</td>\n",
       "      <td>48005.0</td>\n",
       "    </tr>\n",
       "    <tr>\n",
       "      <th>3</th>\n",
       "      <td>3</td>\n",
       "      <td>3</td>\n",
       "      <td>Aransas County</td>\n",
       "      <td>Fourth Quarter</td>\n",
       "      <td>67.0</td>\n",
       "      <td>369.0</td>\n",
       "      <td>-3.1</td>\n",
       "      <td>979.0</td>\n",
       "      <td>-5.9</td>\n",
       "      <td>Construction</td>\n",
       "      <td>48007.0</td>\n",
       "    </tr>\n",
       "    <tr>\n",
       "      <th>4</th>\n",
       "      <td>4</td>\n",
       "      <td>4</td>\n",
       "      <td>Archer County</td>\n",
       "      <td>Fourth Quarter</td>\n",
       "      <td>36.0</td>\n",
       "      <td>119.0</td>\n",
       "      <td>0.8</td>\n",
       "      <td>670.0</td>\n",
       "      <td>2.6</td>\n",
       "      <td>Construction</td>\n",
       "      <td>48009.0</td>\n",
       "    </tr>\n",
       "  </tbody>\n",
       "</table>\n",
       "</div>"
      ],
      "text/plain": [
       "   Unnamed: 0  Unnamed: 0.1        Area Name         Quarter  \\\n",
       "0           0             0  Anderson County  Fourth Quarter   \n",
       "1           1             1   Andrews County  Fourth Quarter   \n",
       "2           2             2  Angelina County  Fourth Quarter   \n",
       "3           3             3   Aransas County  Fourth Quarter   \n",
       "4           4             4    Archer County  Fourth Quarter   \n",
       "\n",
       "   No Of Establishments  Employment  One-Year Employment Gain/Loss (Percent)  \\\n",
       "0                 106.0       607.0                                    -12.8   \n",
       "1                  37.0       821.0                                      9.8   \n",
       "2                 147.0      1369.0                                     -8.7   \n",
       "3                  67.0       369.0                                     -3.1   \n",
       "4                  36.0       119.0                                      0.8   \n",
       "\n",
       "   Average Weekly Wages  On-Year Weekly Wages Gain/Loss (Percent)  \\\n",
       "0                 939.0                                      27.2   \n",
       "1                1575.0                                      12.7   \n",
       "2                 856.0                                       6.3   \n",
       "3                 979.0                                      -5.9   \n",
       "4                 670.0                                       2.6   \n",
       "\n",
       "       Industry     FIPS  \n",
       "0  Construction  48001.0  \n",
       "1  Construction  48003.0  \n",
       "2  Construction  48005.0  \n",
       "3  Construction  48007.0  \n",
       "4  Construction  48009.0  "
      ]
     },
     "execution_count": 4,
     "metadata": {},
     "output_type": "execute_result"
    }
   ],
   "source": [
    "#drop the extra index column \"Unnamed: 0\"\n",
    "q3_df = q3_df.drop(columns=['Unnamed: 0'])\n",
    "\n",
    "#import and save q4 data as a dataframe\n",
    "q4_df = pd.read_csv('./data/BLS_Data_Q4_17/q4_df.csv')\n",
    "\n",
    "#examine q4 dataframe\n",
    "q4_df.head()"
   ]
  },
  {
   "cell_type": "code",
   "execution_count": 5,
   "metadata": {},
   "outputs": [
    {
     "data": {
      "text/html": [
       "<div>\n",
       "<style scoped>\n",
       "    .dataframe tbody tr th:only-of-type {\n",
       "        vertical-align: middle;\n",
       "    }\n",
       "\n",
       "    .dataframe tbody tr th {\n",
       "        vertical-align: top;\n",
       "    }\n",
       "\n",
       "    .dataframe thead th {\n",
       "        text-align: right;\n",
       "    }\n",
       "</style>\n",
       "<table border=\"1\" class=\"dataframe\">\n",
       "  <thead>\n",
       "    <tr style=\"text-align: right;\">\n",
       "      <th></th>\n",
       "      <th>Area Name</th>\n",
       "      <th>Quarter</th>\n",
       "      <th>No Of Establishments</th>\n",
       "      <th>Employment</th>\n",
       "      <th>One-Year Employment Gain/Loss (Percent)</th>\n",
       "      <th>Average Weekly Wages</th>\n",
       "      <th>On-Year Weekly Wages Gain/Loss (Percent)</th>\n",
       "      <th>Industry</th>\n",
       "      <th>FIPS</th>\n",
       "    </tr>\n",
       "  </thead>\n",
       "  <tbody>\n",
       "    <tr>\n",
       "      <th>0</th>\n",
       "      <td>Anderson County</td>\n",
       "      <td>Fourth Quarter</td>\n",
       "      <td>106.0</td>\n",
       "      <td>607.0</td>\n",
       "      <td>-12.8</td>\n",
       "      <td>939.0</td>\n",
       "      <td>27.2</td>\n",
       "      <td>Construction</td>\n",
       "      <td>48001.0</td>\n",
       "    </tr>\n",
       "    <tr>\n",
       "      <th>1</th>\n",
       "      <td>Andrews County</td>\n",
       "      <td>Fourth Quarter</td>\n",
       "      <td>37.0</td>\n",
       "      <td>821.0</td>\n",
       "      <td>9.8</td>\n",
       "      <td>1575.0</td>\n",
       "      <td>12.7</td>\n",
       "      <td>Construction</td>\n",
       "      <td>48003.0</td>\n",
       "    </tr>\n",
       "    <tr>\n",
       "      <th>2</th>\n",
       "      <td>Angelina County</td>\n",
       "      <td>Fourth Quarter</td>\n",
       "      <td>147.0</td>\n",
       "      <td>1369.0</td>\n",
       "      <td>-8.7</td>\n",
       "      <td>856.0</td>\n",
       "      <td>6.3</td>\n",
       "      <td>Construction</td>\n",
       "      <td>48005.0</td>\n",
       "    </tr>\n",
       "    <tr>\n",
       "      <th>3</th>\n",
       "      <td>Aransas County</td>\n",
       "      <td>Fourth Quarter</td>\n",
       "      <td>67.0</td>\n",
       "      <td>369.0</td>\n",
       "      <td>-3.1</td>\n",
       "      <td>979.0</td>\n",
       "      <td>-5.9</td>\n",
       "      <td>Construction</td>\n",
       "      <td>48007.0</td>\n",
       "    </tr>\n",
       "    <tr>\n",
       "      <th>4</th>\n",
       "      <td>Archer County</td>\n",
       "      <td>Fourth Quarter</td>\n",
       "      <td>36.0</td>\n",
       "      <td>119.0</td>\n",
       "      <td>0.8</td>\n",
       "      <td>670.0</td>\n",
       "      <td>2.6</td>\n",
       "      <td>Construction</td>\n",
       "      <td>48009.0</td>\n",
       "    </tr>\n",
       "  </tbody>\n",
       "</table>\n",
       "</div>"
      ],
      "text/plain": [
       "         Area Name         Quarter  No Of Establishments  Employment  \\\n",
       "0  Anderson County  Fourth Quarter                 106.0       607.0   \n",
       "1   Andrews County  Fourth Quarter                  37.0       821.0   \n",
       "2  Angelina County  Fourth Quarter                 147.0      1369.0   \n",
       "3   Aransas County  Fourth Quarter                  67.0       369.0   \n",
       "4    Archer County  Fourth Quarter                  36.0       119.0   \n",
       "\n",
       "   One-Year Employment Gain/Loss (Percent)  Average Weekly Wages  \\\n",
       "0                                    -12.8                 939.0   \n",
       "1                                      9.8                1575.0   \n",
       "2                                     -8.7                 856.0   \n",
       "3                                     -3.1                 979.0   \n",
       "4                                      0.8                 670.0   \n",
       "\n",
       "   On-Year Weekly Wages Gain/Loss (Percent)      Industry     FIPS  \n",
       "0                                      27.2  Construction  48001.0  \n",
       "1                                      12.7  Construction  48003.0  \n",
       "2                                       6.3  Construction  48005.0  \n",
       "3                                      -5.9  Construction  48007.0  \n",
       "4                                       2.6  Construction  48009.0  "
      ]
     },
     "execution_count": 5,
     "metadata": {},
     "output_type": "execute_result"
    }
   ],
   "source": [
    "#remove the two extra index columns for q4_df\n",
    "q4_df = q4_df.drop(columns= ['Unnamed: 0', 'Unnamed: 0.1'])\n",
    "\n",
    "#verify the columns dropped succesfully\n",
    "q4_df.head()"
   ]
  },
  {
   "cell_type": "code",
   "execution_count": 6,
   "metadata": {},
   "outputs": [
    {
     "data": {
      "text/plain": [
       "(2725, 9)"
      ]
     },
     "execution_count": 6,
     "metadata": {},
     "output_type": "execute_result"
    }
   ],
   "source": [
    "#check shape of q4_df\n",
    "q4_df.shape"
   ]
  },
  {
   "cell_type": "code",
   "execution_count": 7,
   "metadata": {},
   "outputs": [
    {
     "data": {
      "text/plain": [
       "(8154, 9)"
      ]
     },
     "execution_count": 7,
     "metadata": {},
     "output_type": "execute_result"
    }
   ],
   "source": [
    "#create list of all 3 df\n",
    "df_list = [q2_df, q3_df, q4_df]\n",
    "\n",
    "#combine imported info into 1 dataframe\n",
    "q2_q3_q4 = pd.concat([q2_df, q3_df, q4_df])\n",
    "\n",
    "#check shape of q2_df_q3_df_q4_df\n",
    "q2_q3_q4.shape"
   ]
  },
  {
   "cell_type": "code",
   "execution_count": 8,
   "metadata": {},
   "outputs": [],
   "source": [
    "#save to q2_q3_q4.csv\n",
    "q2_q3_q4.to_csv('./data/q2_q3_q4.csv')"
   ]
  },
  {
   "cell_type": "code",
   "execution_count": 9,
   "metadata": {},
   "outputs": [],
   "source": [
    "# Load the data.\n",
    "df = pd.read_csv('./data/q2_q3_q4.csv')"
   ]
  },
  {
   "cell_type": "code",
   "execution_count": 10,
   "metadata": {},
   "outputs": [
    {
     "data": {
      "text/html": [
       "<div>\n",
       "<style scoped>\n",
       "    .dataframe tbody tr th:only-of-type {\n",
       "        vertical-align: middle;\n",
       "    }\n",
       "\n",
       "    .dataframe tbody tr th {\n",
       "        vertical-align: top;\n",
       "    }\n",
       "\n",
       "    .dataframe thead th {\n",
       "        text-align: right;\n",
       "    }\n",
       "</style>\n",
       "<table border=\"1\" class=\"dataframe\">\n",
       "  <thead>\n",
       "    <tr style=\"text-align: right;\">\n",
       "      <th></th>\n",
       "      <th>Unnamed: 0</th>\n",
       "      <th>Area Name</th>\n",
       "      <th>Quarter</th>\n",
       "      <th>No Of Establishments</th>\n",
       "      <th>Employment</th>\n",
       "      <th>One-Year Employment Gain/Loss (Percent)</th>\n",
       "      <th>Average Weekly Wages</th>\n",
       "      <th>On-Year Weekly Wages Gain/Loss (Percent)</th>\n",
       "      <th>Industry</th>\n",
       "      <th>FIPS</th>\n",
       "    </tr>\n",
       "  </thead>\n",
       "  <tbody>\n",
       "    <tr>\n",
       "      <th>0</th>\n",
       "      <td>0</td>\n",
       "      <td>Anderson County</td>\n",
       "      <td>Second Quarter</td>\n",
       "      <td>109.0</td>\n",
       "      <td>1666.0</td>\n",
       "      <td>3.1</td>\n",
       "      <td>275.0</td>\n",
       "      <td>1.1</td>\n",
       "      <td>Leisure and Hospitality</td>\n",
       "      <td>48001.0</td>\n",
       "    </tr>\n",
       "    <tr>\n",
       "      <th>1</th>\n",
       "      <td>1</td>\n",
       "      <td>Andrews County</td>\n",
       "      <td>Second Quarter</td>\n",
       "      <td>37.0</td>\n",
       "      <td>531.0</td>\n",
       "      <td>17.5</td>\n",
       "      <td>439.0</td>\n",
       "      <td>-0.9</td>\n",
       "      <td>Leisure and Hospitality</td>\n",
       "      <td>48003.0</td>\n",
       "    </tr>\n",
       "    <tr>\n",
       "      <th>2</th>\n",
       "      <td>2</td>\n",
       "      <td>Angelina County</td>\n",
       "      <td>Second Quarter</td>\n",
       "      <td>157.0</td>\n",
       "      <td>3549.0</td>\n",
       "      <td>7.6</td>\n",
       "      <td>302.0</td>\n",
       "      <td>-0.3</td>\n",
       "      <td>Leisure and Hospitality</td>\n",
       "      <td>48005.0</td>\n",
       "    </tr>\n",
       "    <tr>\n",
       "      <th>3</th>\n",
       "      <td>3</td>\n",
       "      <td>Aransas County</td>\n",
       "      <td>Second Quarter</td>\n",
       "      <td>124.0</td>\n",
       "      <td>1660.0</td>\n",
       "      <td>6.8</td>\n",
       "      <td>335.0</td>\n",
       "      <td>-0.9</td>\n",
       "      <td>Leisure and Hospitality</td>\n",
       "      <td>48007.0</td>\n",
       "    </tr>\n",
       "    <tr>\n",
       "      <th>4</th>\n",
       "      <td>4</td>\n",
       "      <td>Archer County</td>\n",
       "      <td>Second Quarter</td>\n",
       "      <td>8.0</td>\n",
       "      <td>60.0</td>\n",
       "      <td>50.0</td>\n",
       "      <td>222.0</td>\n",
       "      <td>-21.3</td>\n",
       "      <td>Leisure and Hospitality</td>\n",
       "      <td>48009.0</td>\n",
       "    </tr>\n",
       "  </tbody>\n",
       "</table>\n",
       "</div>"
      ],
      "text/plain": [
       "   Unnamed: 0        Area Name         Quarter  No Of Establishments  \\\n",
       "0           0  Anderson County  Second Quarter                 109.0   \n",
       "1           1   Andrews County  Second Quarter                  37.0   \n",
       "2           2  Angelina County  Second Quarter                 157.0   \n",
       "3           3   Aransas County  Second Quarter                 124.0   \n",
       "4           4    Archer County  Second Quarter                   8.0   \n",
       "\n",
       "   Employment  One-Year Employment Gain/Loss (Percent)  Average Weekly Wages  \\\n",
       "0      1666.0                                      3.1                 275.0   \n",
       "1       531.0                                     17.5                 439.0   \n",
       "2      3549.0                                      7.6                 302.0   \n",
       "3      1660.0                                      6.8                 335.0   \n",
       "4        60.0                                     50.0                 222.0   \n",
       "\n",
       "   On-Year Weekly Wages Gain/Loss (Percent)                 Industry     FIPS  \n",
       "0                                       1.1  Leisure and Hospitality  48001.0  \n",
       "1                                      -0.9  Leisure and Hospitality  48003.0  \n",
       "2                                      -0.3  Leisure and Hospitality  48005.0  \n",
       "3                                      -0.9  Leisure and Hospitality  48007.0  \n",
       "4                                     -21.3  Leisure and Hospitality  48009.0  "
      ]
     },
     "execution_count": 10,
     "metadata": {},
     "output_type": "execute_result"
    }
   ],
   "source": [
    "# Check the df dataframe.\n",
    "df.head()"
   ]
  },
  {
   "cell_type": "code",
   "execution_count": 11,
   "metadata": {},
   "outputs": [
    {
     "data": {
      "text/plain": [
       "(8154, 10)"
      ]
     },
     "execution_count": 11,
     "metadata": {},
     "output_type": "execute_result"
    }
   ],
   "source": [
    "# Check the shape of data frame.\n",
    "df.shape"
   ]
  },
  {
   "cell_type": "code",
   "execution_count": 12,
   "metadata": {},
   "outputs": [
    {
     "data": {
      "text/html": [
       "<div>\n",
       "<style scoped>\n",
       "    .dataframe tbody tr th:only-of-type {\n",
       "        vertical-align: middle;\n",
       "    }\n",
       "\n",
       "    .dataframe tbody tr th {\n",
       "        vertical-align: top;\n",
       "    }\n",
       "\n",
       "    .dataframe thead th {\n",
       "        text-align: right;\n",
       "    }\n",
       "</style>\n",
       "<table border=\"1\" class=\"dataframe\">\n",
       "  <thead>\n",
       "    <tr style=\"text-align: right;\">\n",
       "      <th></th>\n",
       "      <th>count</th>\n",
       "      <th>mean</th>\n",
       "      <th>std</th>\n",
       "      <th>min</th>\n",
       "      <th>25%</th>\n",
       "      <th>50%</th>\n",
       "      <th>75%</th>\n",
       "      <th>max</th>\n",
       "    </tr>\n",
       "  </thead>\n",
       "  <tbody>\n",
       "    <tr>\n",
       "      <th>Unnamed: 0</th>\n",
       "      <td>8154.0</td>\n",
       "      <td>1358.515575</td>\n",
       "      <td>784.694015</td>\n",
       "      <td>0.0</td>\n",
       "      <td>679.00</td>\n",
       "      <td>1358.5</td>\n",
       "      <td>2038.00</td>\n",
       "      <td>2724.0</td>\n",
       "    </tr>\n",
       "    <tr>\n",
       "      <th>No Of Establishments</th>\n",
       "      <td>8126.0</td>\n",
       "      <td>233.172656</td>\n",
       "      <td>1174.494175</td>\n",
       "      <td>1.0</td>\n",
       "      <td>9.00</td>\n",
       "      <td>29.0</td>\n",
       "      <td>87.75</td>\n",
       "      <td>25099.0</td>\n",
       "    </tr>\n",
       "    <tr>\n",
       "      <th>Employment</th>\n",
       "      <td>7186.0</td>\n",
       "      <td>4151.521709</td>\n",
       "      <td>22583.140257</td>\n",
       "      <td>0.0</td>\n",
       "      <td>76.25</td>\n",
       "      <td>312.5</td>\n",
       "      <td>1202.75</td>\n",
       "      <td>485145.0</td>\n",
       "    </tr>\n",
       "    <tr>\n",
       "      <th>One-Year Employment Gain/Loss (Percent)</th>\n",
       "      <td>6827.0</td>\n",
       "      <td>11.140179</td>\n",
       "      <td>72.803183</td>\n",
       "      <td>-100.0</td>\n",
       "      <td>-4.20</td>\n",
       "      <td>1.7</td>\n",
       "      <td>9.40</td>\n",
       "      <td>2200.0</td>\n",
       "    </tr>\n",
       "    <tr>\n",
       "      <th>Average Weekly Wages</th>\n",
       "      <td>7186.0</td>\n",
       "      <td>794.169775</td>\n",
       "      <td>378.104028</td>\n",
       "      <td>0.0</td>\n",
       "      <td>551.00</td>\n",
       "      <td>759.0</td>\n",
       "      <td>979.00</td>\n",
       "      <td>4316.0</td>\n",
       "    </tr>\n",
       "    <tr>\n",
       "      <th>On-Year Weekly Wages Gain/Loss (Percent)</th>\n",
       "      <td>6834.0</td>\n",
       "      <td>5.774422</td>\n",
       "      <td>40.117113</td>\n",
       "      <td>-100.0</td>\n",
       "      <td>-2.50</td>\n",
       "      <td>2.8</td>\n",
       "      <td>9.00</td>\n",
       "      <td>2421.4</td>\n",
       "    </tr>\n",
       "    <tr>\n",
       "      <th>FIPS</th>\n",
       "      <td>8126.0</td>\n",
       "      <td>48253.364509</td>\n",
       "      <td>146.771133</td>\n",
       "      <td>48001.0</td>\n",
       "      <td>48127.00</td>\n",
       "      <td>48251.0</td>\n",
       "      <td>48381.00</td>\n",
       "      <td>48507.0</td>\n",
       "    </tr>\n",
       "  </tbody>\n",
       "</table>\n",
       "</div>"
      ],
      "text/plain": [
       "                                           count          mean           std  \\\n",
       "Unnamed: 0                                8154.0   1358.515575    784.694015   \n",
       "No Of Establishments                      8126.0    233.172656   1174.494175   \n",
       "Employment                                7186.0   4151.521709  22583.140257   \n",
       "One-Year Employment Gain/Loss (Percent)   6827.0     11.140179     72.803183   \n",
       "Average Weekly Wages                      7186.0    794.169775    378.104028   \n",
       "On-Year Weekly Wages Gain/Loss (Percent)  6834.0      5.774422     40.117113   \n",
       "FIPS                                      8126.0  48253.364509    146.771133   \n",
       "\n",
       "                                              min       25%      50%  \\\n",
       "Unnamed: 0                                    0.0    679.00   1358.5   \n",
       "No Of Establishments                          1.0      9.00     29.0   \n",
       "Employment                                    0.0     76.25    312.5   \n",
       "One-Year Employment Gain/Loss (Percent)    -100.0     -4.20      1.7   \n",
       "Average Weekly Wages                          0.0    551.00    759.0   \n",
       "On-Year Weekly Wages Gain/Loss (Percent)   -100.0     -2.50      2.8   \n",
       "FIPS                                      48001.0  48127.00  48251.0   \n",
       "\n",
       "                                               75%       max  \n",
       "Unnamed: 0                                 2038.00    2724.0  \n",
       "No Of Establishments                         87.75   25099.0  \n",
       "Employment                                 1202.75  485145.0  \n",
       "One-Year Employment Gain/Loss (Percent)       9.40    2200.0  \n",
       "Average Weekly Wages                        979.00    4316.0  \n",
       "On-Year Weekly Wages Gain/Loss (Percent)      9.00    2421.4  \n",
       "FIPS                                      48381.00   48507.0  "
      ]
     },
     "execution_count": 12,
     "metadata": {},
     "output_type": "execute_result"
    }
   ],
   "source": [
    "# Check the std & mean & min & max of the data.\n",
    "df.describe().T"
   ]
  },
  {
   "cell_type": "code",
   "execution_count": 13,
   "metadata": {
    "scrolled": true
   },
   "outputs": [
    {
     "data": {
      "text/plain": [
       "Index(['Unnamed: 0', 'Area Name', 'Quarter', 'No Of Establishments',\n",
       "       'Employment', 'One-Year Employment Gain/Loss (Percent)',\n",
       "       'Average Weekly Wages', 'On-Year Weekly Wages Gain/Loss (Percent)',\n",
       "       'Industry', 'FIPS'],\n",
       "      dtype='object')"
      ]
     },
     "execution_count": 13,
     "metadata": {},
     "output_type": "execute_result"
    }
   ],
   "source": [
    "# Check the column's name.\n",
    "df.columns"
   ]
  },
  {
   "cell_type": "code",
   "execution_count": 14,
   "metadata": {},
   "outputs": [],
   "source": [
    "# Drop the 'Unnamed: 0' column.\n",
    "df = df.drop(columns = 'Unnamed: 0')"
   ]
  },
  {
   "cell_type": "markdown",
   "metadata": {},
   "source": [
    "## Secondary EDA"
   ]
  },
  {
   "cell_type": "markdown",
   "metadata": {},
   "source": [
    "After looking at the data, we wanted to know which counties is directly affected by hurricane. In the FEMA disaster website, we found the Designated Counties of individe Assistance which are the counties that received aid from the government, so we used those as the subset of counties that the hurricane hit. "
   ]
  },
  {
   "cell_type": "code",
   "execution_count": 15,
   "metadata": {},
   "outputs": [],
   "source": [
    "# Create a list with all the direct affect county.\n",
    "direct_affect = ['Aransas County', 'Austin County', 'Bastrop County',\n",
    "                 'Bee County', 'Brazoria County', 'Caldwell County',\n",
    "                 'Calhoun County', 'Chambers County', 'Colorado County',\n",
    "                 'DeWitt County', 'Fayette County', 'Fort Bend County',\n",
    "                 'Galveston County', 'Goliad County', 'Gonzales County', \n",
    "                 'Grimes County', 'Hardin County', 'Harris County',\n",
    "                 'Jackson County', 'Jasper County', 'Jefferson County',\n",
    "                 'Karnes County', 'Kleberg County', 'Lavaca County',\n",
    "                 'Lee County', 'Liberty County', 'Matagorda County',\n",
    "                 'Montgomery County', 'Newton County', 'Nueces County',\n",
    "                 'Orange County', 'Polk County', 'Refugio County',\n",
    "                 'Sabine County', 'San Jacinto County', 'San Patricio County',\n",
    "                 'Tyler County', 'Victoria County', 'Walker County',\n",
    "                 'Waller County', 'Wharton County']"
   ]
  },
  {
   "cell_type": "code",
   "execution_count": 16,
   "metadata": {},
   "outputs": [],
   "source": [
    "# Code to get other counties.\n",
    "list_of_counties = list(df['Area Name'].unique())\n",
    "\n",
    "not_affect = [i for i in list_of_counties if i not in direct_affect]"
   ]
  },
  {
   "cell_type": "code",
   "execution_count": 17,
   "metadata": {},
   "outputs": [],
   "source": [
    "# Create a dic for direct affect county.\n",
    "dict1 = {}\n",
    "for i in direct_affect:\n",
    "    dict1[i] = 1"
   ]
  },
  {
   "cell_type": "code",
   "execution_count": 18,
   "metadata": {},
   "outputs": [],
   "source": [
    "# Add new key & value of the dict1. \n",
    "for i in not_affect:\n",
    "    dict1[i] = 0"
   ]
  },
  {
   "cell_type": "code",
   "execution_count": 19,
   "metadata": {},
   "outputs": [],
   "source": [
    "# Create a column to indicate is the county impacted or not.\n",
    "df['Was it impacted?'] = df['Area Name'].map(dict1)"
   ]
  },
  {
   "cell_type": "code",
   "execution_count": 20,
   "metadata": {
    "scrolled": true
   },
   "outputs": [
    {
     "data": {
      "text/plain": [
       "0    6809\n",
       "1    1345\n",
       "Name: Was it impacted?, dtype: int64"
      ]
     },
     "execution_count": 20,
     "metadata": {},
     "output_type": "execute_result"
    }
   ],
   "source": [
    "# Check the impacted columns works well by using value count\n",
    "df['Was it impacted?'].value_counts()"
   ]
  },
  {
   "cell_type": "markdown",
   "metadata": {},
   "source": [
    "## Missing Data"
   ]
  },
  {
   "cell_type": "markdown",
   "metadata": {},
   "source": [
    "It is odd that the Quarter column has the missing data, so we studied the data to see what happened. After reviewed, these rows without Quarter were merely empty row. I applied the function of 'notna' to generate a subset without those rows. Columns of average weekly wages and employment also hold missing data. It revealed the counties had unusual establishments which without employment and weekly wage record. Considering the missing data were in both columns and the same index, we just kept those rows. To get economic value, we multiplied the average weekly wage, employment, and thirteen to get the Quarterly total wage. Next, converted the data frame to pivot table and arranged index to be area name and industry, column to be Quarter for the subsequent calculation. Later, built new columns to distinguish the economic change by Quarter in various counties and industries. Then, filtered the top 3 counties to see how industries distribution. Finally, used graphs to visualize the top 3 economic loss industries of the top 3 economic loss counties."
   ]
  },
  {
   "cell_type": "code",
   "execution_count": 21,
   "metadata": {},
   "outputs": [
    {
     "data": {
      "text/plain": [
       "Area Name                                      0\n",
       "Quarter                                       28\n",
       "No Of Establishments                          28\n",
       "Employment                                   968\n",
       "One-Year Employment Gain/Loss (Percent)     1327\n",
       "Average Weekly Wages                         968\n",
       "On-Year Weekly Wages Gain/Loss (Percent)    1320\n",
       "Industry                                      28\n",
       "FIPS                                          28\n",
       "Was it impacted?                               0\n",
       "dtype: int64"
      ]
     },
     "execution_count": 21,
     "metadata": {},
     "output_type": "execute_result"
    }
   ],
   "source": [
    "# Check the null value of the data.\n",
    "df.isnull().sum()"
   ]
  },
  {
   "cell_type": "code",
   "execution_count": 22,
   "metadata": {},
   "outputs": [],
   "source": [
    "# Subsetting the dataframe to remove null value.\n",
    "df = df[df.Quarter.notna()]"
   ]
  },
  {
   "cell_type": "code",
   "execution_count": 23,
   "metadata": {},
   "outputs": [],
   "source": [
    "# Add the feature of Economic Value Quarterly\n",
    "df['Economic Value Quarterly'] = df['Employment'] * df['Average Weekly Wages'] *13\n"
   ]
  },
  {
   "cell_type": "code",
   "execution_count": 24,
   "metadata": {},
   "outputs": [],
   "source": [
    "# Build a dataframe to shows the diff. of Economic Value Quarterly \n",
    "# by industry and County\n",
    "table = pd.pivot_table(df, values='Economic Value Quarterly',\n",
    "                       index=['Area Name','Industry'],\n",
    "                       columns=['Quarter'], aggfunc=np.sum)"
   ]
  },
  {
   "cell_type": "code",
   "execution_count": 25,
   "metadata": {},
   "outputs": [
    {
     "data": {
      "text/html": [
       "<div>\n",
       "<style scoped>\n",
       "    .dataframe tbody tr th:only-of-type {\n",
       "        vertical-align: middle;\n",
       "    }\n",
       "\n",
       "    .dataframe tbody tr th {\n",
       "        vertical-align: top;\n",
       "    }\n",
       "\n",
       "    .dataframe thead th {\n",
       "        text-align: right;\n",
       "    }\n",
       "</style>\n",
       "<table border=\"1\" class=\"dataframe\">\n",
       "  <thead>\n",
       "    <tr style=\"text-align: right;\">\n",
       "      <th></th>\n",
       "      <th>Quarter</th>\n",
       "      <th>Fourth Quarter</th>\n",
       "      <th>Second Quarter</th>\n",
       "      <th>Third Quarter</th>\n",
       "    </tr>\n",
       "    <tr>\n",
       "      <th>Area Name</th>\n",
       "      <th>Industry</th>\n",
       "      <th></th>\n",
       "      <th></th>\n",
       "      <th></th>\n",
       "    </tr>\n",
       "  </thead>\n",
       "  <tbody>\n",
       "    <tr>\n",
       "      <th rowspan=\"5\" valign=\"top\">Anderson County</th>\n",
       "      <th>Construction</th>\n",
       "      <td>7409649.0</td>\n",
       "      <td>6936358.0</td>\n",
       "      <td>6992544.0</td>\n",
       "    </tr>\n",
       "    <tr>\n",
       "      <th>Education and Health Services</th>\n",
       "      <td>25883988.0</td>\n",
       "      <td>25491570.0</td>\n",
       "      <td>24207898.0</td>\n",
       "    </tr>\n",
       "    <tr>\n",
       "      <th>Financial Activities</th>\n",
       "      <td>10270260.0</td>\n",
       "      <td>9753835.0</td>\n",
       "      <td>8571576.0</td>\n",
       "    </tr>\n",
       "    <tr>\n",
       "      <th>Information</th>\n",
       "      <td>3742830.0</td>\n",
       "      <td>2500862.0</td>\n",
       "      <td>3105375.0</td>\n",
       "    </tr>\n",
       "    <tr>\n",
       "      <th>Leisure and Hospitality</th>\n",
       "      <td>5949216.0</td>\n",
       "      <td>5955950.0</td>\n",
       "      <td>5683392.0</td>\n",
       "    </tr>\n",
       "  </tbody>\n",
       "</table>\n",
       "</div>"
      ],
      "text/plain": [
       "Quarter                                        Fourth Quarter  Second Quarter  \\\n",
       "Area Name       Industry                                                        \n",
       "Anderson County Construction                        7409649.0       6936358.0   \n",
       "                Education and Health Services      25883988.0      25491570.0   \n",
       "                Financial Activities               10270260.0       9753835.0   \n",
       "                Information                         3742830.0       2500862.0   \n",
       "                Leisure and Hospitality             5949216.0       5955950.0   \n",
       "\n",
       "Quarter                                        Third Quarter  \n",
       "Area Name       Industry                                      \n",
       "Anderson County Construction                       6992544.0  \n",
       "                Education and Health Services     24207898.0  \n",
       "                Financial Activities               8571576.0  \n",
       "                Information                        3105375.0  \n",
       "                Leisure and Hospitality            5683392.0  "
      ]
     },
     "execution_count": 25,
     "metadata": {},
     "output_type": "execute_result"
    }
   ],
   "source": [
    "# Check the head of the table\n",
    "table.head()"
   ]
  },
  {
   "cell_type": "code",
   "execution_count": 26,
   "metadata": {},
   "outputs": [
    {
     "data": {
      "text/html": [
       "<div>\n",
       "<style scoped>\n",
       "    .dataframe tbody tr th:only-of-type {\n",
       "        vertical-align: middle;\n",
       "    }\n",
       "\n",
       "    .dataframe tbody tr th {\n",
       "        vertical-align: top;\n",
       "    }\n",
       "\n",
       "    .dataframe thead th {\n",
       "        text-align: right;\n",
       "    }\n",
       "</style>\n",
       "<table border=\"1\" class=\"dataframe\">\n",
       "  <thead>\n",
       "    <tr style=\"text-align: right;\">\n",
       "      <th>Quarter</th>\n",
       "      <th>Fourth Quarter</th>\n",
       "      <th>Second Quarter</th>\n",
       "      <th>Third Quarter</th>\n",
       "    </tr>\n",
       "    <tr>\n",
       "      <th>Area Name</th>\n",
       "      <th></th>\n",
       "      <th></th>\n",
       "      <th></th>\n",
       "    </tr>\n",
       "  </thead>\n",
       "  <tbody>\n",
       "    <tr>\n",
       "      <th>Anderson County</th>\n",
       "      <td>166236239.0</td>\n",
       "      <td>153177388.0</td>\n",
       "      <td>148021419.0</td>\n",
       "    </tr>\n",
       "    <tr>\n",
       "      <th>Andrews County</th>\n",
       "      <td>103968059.0</td>\n",
       "      <td>90283960.0</td>\n",
       "      <td>95265508.0</td>\n",
       "    </tr>\n",
       "    <tr>\n",
       "      <th>Angelina County</th>\n",
       "      <td>299690807.0</td>\n",
       "      <td>278274360.0</td>\n",
       "      <td>272359906.0</td>\n",
       "    </tr>\n",
       "  </tbody>\n",
       "</table>\n",
       "</div>"
      ],
      "text/plain": [
       "Quarter          Fourth Quarter  Second Quarter  Third Quarter\n",
       "Area Name                                                     \n",
       "Anderson County     166236239.0     153177388.0    148021419.0\n",
       "Andrews County      103968059.0      90283960.0     95265508.0\n",
       "Angelina County     299690807.0     278274360.0    272359906.0"
      ]
     },
     "execution_count": 26,
     "metadata": {},
     "output_type": "execute_result"
    }
   ],
   "source": [
    "# group the table by county \n",
    "table_county = table.groupby('Area Name').sum()\n",
    "# Check the top 3\n",
    "table_county.head(3)"
   ]
  },
  {
   "cell_type": "code",
   "execution_count": 27,
   "metadata": {},
   "outputs": [],
   "source": [
    "# Create new columns of the change during quarter \n",
    "table_county['Change EV(2~3)'] = table_county['Third Quarter'] - table_county['Second Quarter']\n",
    "table_county['Change EV(3~4)'] = table_county['Fourth Quarter'] - table_county['Third Quarter']\n",
    "\n",
    "# Create a datafram to indicate the top 3 impacted county\n",
    "top3_county = table_county[['Change EV(2~3)','Change EV(3~4)']].sort_values(['Change EV(2~3)','Change EV(3~4)']).head(3)\n"
   ]
  },
  {
   "cell_type": "code",
   "execution_count": 28,
   "metadata": {},
   "outputs": [
    {
     "data": {
      "text/html": [
       "<div>\n",
       "<style scoped>\n",
       "    .dataframe tbody tr th:only-of-type {\n",
       "        vertical-align: middle;\n",
       "    }\n",
       "\n",
       "    .dataframe tbody tr th {\n",
       "        vertical-align: top;\n",
       "    }\n",
       "\n",
       "    .dataframe thead th {\n",
       "        text-align: right;\n",
       "    }\n",
       "</style>\n",
       "<table border=\"1\" class=\"dataframe\">\n",
       "  <thead>\n",
       "    <tr style=\"text-align: right;\">\n",
       "      <th>Quarter</th>\n",
       "      <th>Change EV(2~3)</th>\n",
       "      <th>Change EV(3~4)</th>\n",
       "    </tr>\n",
       "    <tr>\n",
       "      <th>Area Name</th>\n",
       "      <th></th>\n",
       "      <th></th>\n",
       "    </tr>\n",
       "  </thead>\n",
       "  <tbody>\n",
       "    <tr>\n",
       "      <th>Tarrant County</th>\n",
       "      <td>-155057994.0</td>\n",
       "      <td>997103172.0</td>\n",
       "    </tr>\n",
       "    <tr>\n",
       "      <th>Bexar County</th>\n",
       "      <td>-84700824.0</td>\n",
       "      <td>854259328.0</td>\n",
       "    </tr>\n",
       "    <tr>\n",
       "      <th>Galveston County</th>\n",
       "      <td>-83768269.0</td>\n",
       "      <td>102599406.0</td>\n",
       "    </tr>\n",
       "  </tbody>\n",
       "</table>\n",
       "</div>"
      ],
      "text/plain": [
       "Quarter           Change EV(2~3)  Change EV(3~4)\n",
       "Area Name                                       \n",
       "Tarrant County      -155057994.0     997103172.0\n",
       "Bexar County         -84700824.0     854259328.0\n",
       "Galveston County     -83768269.0     102599406.0"
      ]
     },
     "execution_count": 28,
     "metadata": {},
     "output_type": "execute_result"
    }
   ],
   "source": [
    "# Take a look at the dataframe\n",
    "top3_county"
   ]
  },
  {
   "cell_type": "code",
   "execution_count": 29,
   "metadata": {},
   "outputs": [],
   "source": [
    "# I want to know the top 3 industy that have the greatest loss\n",
    "# for the upper three County.\n",
    "table_top3_county = table.T[['Tarrant County','Bexar County','Galveston County']]\n"
   ]
  },
  {
   "cell_type": "code",
   "execution_count": 30,
   "metadata": {},
   "outputs": [],
   "source": [
    "table_top3_county = table_top3_county.T"
   ]
  },
  {
   "cell_type": "code",
   "execution_count": 31,
   "metadata": {},
   "outputs": [],
   "source": [
    "# Create new columns of the change during quarter \n",
    "table_top3_county['Change EV(2~3)'] = table_top3_county['Third Quarter'] - table_top3_county['Second Quarter']\n",
    "table_top3_county['Change EV(3~4)'] = table_top3_county['Fourth Quarter'] - table_top3_county['Third Quarter']\n"
   ]
  },
  {
   "cell_type": "code",
   "execution_count": 32,
   "metadata": {},
   "outputs": [
    {
     "data": {
      "text/plain": [
       "MultiIndex(levels=[['Bexar County', 'Galveston County', 'Tarrant County'], ['Construction', 'Education and Health Services', 'Financial Activities', 'Information', 'Leisure and Hospitality', 'Manufacturing', 'Natural Resources and Mining', 'Other Services', 'Professional and Business Services', 'Trade,Transportation, and Utilities', 'Unclassified']],\n",
       "           codes=[[2, 2, 2, 2, 2, 2, 2, 2, 2, 2, 2, 0, 0, 0, 0, 0, 0, 0, 0, 0, 0, 0, 1, 1, 1, 1, 1, 1, 1, 1, 1, 1, 1], [0, 1, 2, 3, 4, 5, 6, 7, 8, 9, 10, 0, 1, 2, 3, 4, 5, 6, 7, 8, 9, 10, 0, 1, 2, 3, 4, 5, 6, 7, 8, 9, 10]],\n",
       "           names=['Area Name', 'Industry'])"
      ]
     },
     "execution_count": 32,
     "metadata": {},
     "output_type": "execute_result"
    }
   ],
   "source": [
    "# Check the all the unique index the data frame has\n",
    "table_top3_county.index.unique()"
   ]
  },
  {
   "cell_type": "code",
   "execution_count": 33,
   "metadata": {},
   "outputs": [],
   "source": [
    "def top3_industry_plot(county_name):\n",
    "    table_tarrant = table_top3_county.loc[county_name]\n",
    "    top3_industry = table_tarrant.sort_values('Change EV(2~3)').head(3)\n",
    "\n",
    "    # Set the figsize\n",
    "    plt.figure(figsize = (15,7));\n",
    "    # bar plot the top 3 loss industry\n",
    "    sns.barplot('Change EV(2~3)',top3_industry.index,\n",
    "                data = top3_industry);\n",
    "\n",
    "    # Add the title & label of x and y\n",
    "    plt.title(f'Top 3 Industry Loss in {county_name}', fontsize = 25);\n",
    "    plt.xlabel('Economic Value Loss from Second to Third Quarter($10,000,000)',\n",
    "              fontsize = 25);\n",
    "    plt.ylabel('')\n",
    "    \n",
    "    # Adject the x & y label font size\n",
    "    plt.xticks(fontsize = 25);\n",
    "    plt.yticks(fontsize =20);\n"
   ]
  },
  {
   "cell_type": "code",
   "execution_count": 34,
   "metadata": {},
   "outputs": [
    {
     "data": {
      "image/png": "[encoded data removed]",
      "text/plain": [
       "<Figure size 1080x504 with 1 Axes>"
      ]
     },
     "metadata": {
      "needs_background": "light"
     },
     "output_type": "display_data"
    }
   ],
   "source": [
    "top3_industry_plot('Tarrant County')"
   ]
  },
  {
   "cell_type": "code",
   "execution_count": 35,
   "metadata": {},
   "outputs": [
    {
     "data": {
      "image/png": "[encoded data removed]",
      "text/plain": [
       "<Figure size 1080x504 with 1 Axes>"
      ]
     },
     "metadata": {
      "needs_background": "light"
     },
     "output_type": "display_data"
    }
   ],
   "source": [
    "top3_industry_plot('Bexar County')"
   ]
  },
  {
   "cell_type": "code",
   "execution_count": 36,
   "metadata": {},
   "outputs": [
    {
     "data": {
      "image/png": "[encoded data removed]",
      "text/plain": [
       "<Figure size 1080x504 with 1 Axes>"
      ]
     },
     "metadata": {
      "needs_background": "light"
     },
     "output_type": "display_data"
    }
   ],
   "source": [
    "top3_industry_plot('Galveston County')"
   ]
  },
  {
   "cell_type": "markdown",
   "metadata": {},
   "source": [
    "# Splitting Dataframes by Industry "
   ]
  },
  {
   "cell_type": "markdown",
   "metadata": {},
   "source": [
    "We also wanted to know what is the difference of the top 5 counties with the most economic value change from second to the third quarter and what is their top 3 industries."
   ]
  },
  {
   "cell_type": "code",
   "execution_count": 37,
   "metadata": {
    "scrolled": true
   },
   "outputs": [
    {
     "data": {
      "text/plain": [
       "array(['Leisure and Hospitality', 'Education and Health Services',\n",
       "       'Professional and Business Services', 'Financial Activities',\n",
       "       'Information', 'Trade,Transportation, and Utilities',\n",
       "       'Manufacturing', 'Construction', 'Natural Resources and Mining',\n",
       "       'Unclassified', 'Other Services'], dtype=object)"
      ]
     },
     "execution_count": 37,
     "metadata": {},
     "output_type": "execute_result"
    }
   ],
   "source": [
    "df.Industry.unique()"
   ]
  },
  {
   "cell_type": "code",
   "execution_count": 38,
   "metadata": {},
   "outputs": [],
   "source": [
    "# create new dataframes by Industry\n",
    "mask_cons = df.Industry == 'Construction'\n",
    "df_cons = df[mask_cons]\n"
   ]
  },
  {
   "cell_type": "code",
   "execution_count": 39,
   "metadata": {},
   "outputs": [
    {
     "data": {
      "text/html": [
       "<div>\n",
       "<style scoped>\n",
       "    .dataframe tbody tr th:only-of-type {\n",
       "        vertical-align: middle;\n",
       "    }\n",
       "\n",
       "    .dataframe tbody tr th {\n",
       "        vertical-align: top;\n",
       "    }\n",
       "\n",
       "    .dataframe thead th {\n",
       "        text-align: right;\n",
       "    }\n",
       "</style>\n",
       "<table border=\"1\" class=\"dataframe\">\n",
       "  <thead>\n",
       "    <tr style=\"text-align: right;\">\n",
       "      <th></th>\n",
       "      <th>Area Name</th>\n",
       "      <th>Quarter</th>\n",
       "      <th>No Of Establishments</th>\n",
       "      <th>Employment</th>\n",
       "      <th>One-Year Employment Gain/Loss (Percent)</th>\n",
       "      <th>Average Weekly Wages</th>\n",
       "      <th>On-Year Weekly Wages Gain/Loss (Percent)</th>\n",
       "      <th>Industry</th>\n",
       "      <th>FIPS</th>\n",
       "      <th>Was it impacted?</th>\n",
       "      <th>Economic Value Quarterly</th>\n",
       "    </tr>\n",
       "  </thead>\n",
       "  <tbody>\n",
       "    <tr>\n",
       "      <th>1734</th>\n",
       "      <td>Anderson County</td>\n",
       "      <td>Second Quarter</td>\n",
       "      <td>108.0</td>\n",
       "      <td>614.0</td>\n",
       "      <td>-11.8</td>\n",
       "      <td>869.0</td>\n",
       "      <td>26.1</td>\n",
       "      <td>Construction</td>\n",
       "      <td>48001.0</td>\n",
       "      <td>0</td>\n",
       "      <td>6936358.0</td>\n",
       "    </tr>\n",
       "    <tr>\n",
       "      <th>1735</th>\n",
       "      <td>Andrews County</td>\n",
       "      <td>Second Quarter</td>\n",
       "      <td>37.0</td>\n",
       "      <td>794.0</td>\n",
       "      <td>16.1</td>\n",
       "      <td>1429.0</td>\n",
       "      <td>11.0</td>\n",
       "      <td>Construction</td>\n",
       "      <td>48003.0</td>\n",
       "      <td>0</td>\n",
       "      <td>14750138.0</td>\n",
       "    </tr>\n",
       "    <tr>\n",
       "      <th>1736</th>\n",
       "      <td>Angelina County</td>\n",
       "      <td>Second Quarter</td>\n",
       "      <td>143.0</td>\n",
       "      <td>1443.0</td>\n",
       "      <td>2.9</td>\n",
       "      <td>763.0</td>\n",
       "      <td>-4.5</td>\n",
       "      <td>Construction</td>\n",
       "      <td>48005.0</td>\n",
       "      <td>0</td>\n",
       "      <td>14313117.0</td>\n",
       "    </tr>\n",
       "    <tr>\n",
       "      <th>1737</th>\n",
       "      <td>Aransas County</td>\n",
       "      <td>Second Quarter</td>\n",
       "      <td>62.0</td>\n",
       "      <td>364.0</td>\n",
       "      <td>7.1</td>\n",
       "      <td>936.0</td>\n",
       "      <td>1.5</td>\n",
       "      <td>Construction</td>\n",
       "      <td>48007.0</td>\n",
       "      <td>1</td>\n",
       "      <td>4429152.0</td>\n",
       "    </tr>\n",
       "    <tr>\n",
       "      <th>1738</th>\n",
       "      <td>Archer County</td>\n",
       "      <td>Second Quarter</td>\n",
       "      <td>40.0</td>\n",
       "      <td>132.0</td>\n",
       "      <td>7.3</td>\n",
       "      <td>676.0</td>\n",
       "      <td>12.7</td>\n",
       "      <td>Construction</td>\n",
       "      <td>48009.0</td>\n",
       "      <td>0</td>\n",
       "      <td>1160016.0</td>\n",
       "    </tr>\n",
       "  </tbody>\n",
       "</table>\n",
       "</div>"
      ],
      "text/plain": [
       "            Area Name         Quarter  No Of Establishments  Employment  \\\n",
       "1734  Anderson County  Second Quarter                 108.0       614.0   \n",
       "1735   Andrews County  Second Quarter                  37.0       794.0   \n",
       "1736  Angelina County  Second Quarter                 143.0      1443.0   \n",
       "1737   Aransas County  Second Quarter                  62.0       364.0   \n",
       "1738    Archer County  Second Quarter                  40.0       132.0   \n",
       "\n",
       "      One-Year Employment Gain/Loss (Percent)  Average Weekly Wages  \\\n",
       "1734                                    -11.8                 869.0   \n",
       "1735                                     16.1                1429.0   \n",
       "1736                                      2.9                 763.0   \n",
       "1737                                      7.1                 936.0   \n",
       "1738                                      7.3                 676.0   \n",
       "\n",
       "      On-Year Weekly Wages Gain/Loss (Percent)      Industry     FIPS  \\\n",
       "1734                                      26.1  Construction  48001.0   \n",
       "1735                                      11.0  Construction  48003.0   \n",
       "1736                                      -4.5  Construction  48005.0   \n",
       "1737                                       1.5  Construction  48007.0   \n",
       "1738                                      12.7  Construction  48009.0   \n",
       "\n",
       "      Was it impacted?  Economic Value Quarterly  \n",
       "1734                 0                 6936358.0  \n",
       "1735                 0                14750138.0  \n",
       "1736                 0                14313117.0  \n",
       "1737                 1                 4429152.0  \n",
       "1738                 0                 1160016.0  "
      ]
     },
     "execution_count": 39,
     "metadata": {},
     "output_type": "execute_result"
    }
   ],
   "source": [
    "df_cons.head()"
   ]
  },
  {
   "cell_type": "code",
   "execution_count": 40,
   "metadata": {},
   "outputs": [],
   "source": [
    "table_cons=pd.pivot_table(df_cons, values='Economic Value Quarterly', index=['Area Name'], columns=['Quarter'], aggfunc=np.sum)\n"
   ]
  },
  {
   "cell_type": "code",
   "execution_count": 41,
   "metadata": {},
   "outputs": [
    {
     "data": {
      "text/html": [
       "<div>\n",
       "<style scoped>\n",
       "    .dataframe tbody tr th:only-of-type {\n",
       "        vertical-align: middle;\n",
       "    }\n",
       "\n",
       "    .dataframe tbody tr th {\n",
       "        vertical-align: top;\n",
       "    }\n",
       "\n",
       "    .dataframe thead th {\n",
       "        text-align: right;\n",
       "    }\n",
       "</style>\n",
       "<table border=\"1\" class=\"dataframe\">\n",
       "  <thead>\n",
       "    <tr style=\"text-align: right;\">\n",
       "      <th>Quarter</th>\n",
       "      <th>Fourth Quarter</th>\n",
       "      <th>Second Quarter</th>\n",
       "      <th>Third Quarter</th>\n",
       "      <th>EV Change(Second to Third)</th>\n",
       "      <th>EV Change(Third to Fourth)</th>\n",
       "    </tr>\n",
       "    <tr>\n",
       "      <th>Area Name</th>\n",
       "      <th></th>\n",
       "      <th></th>\n",
       "      <th></th>\n",
       "      <th></th>\n",
       "      <th></th>\n",
       "    </tr>\n",
       "  </thead>\n",
       "  <tbody>\n",
       "    <tr>\n",
       "      <th>Anderson County</th>\n",
       "      <td>7409649.0</td>\n",
       "      <td>6936358.0</td>\n",
       "      <td>6992544.0</td>\n",
       "      <td>56186.0</td>\n",
       "      <td>417105.0</td>\n",
       "    </tr>\n",
       "    <tr>\n",
       "      <th>Andrews County</th>\n",
       "      <td>16809975.0</td>\n",
       "      <td>14750138.0</td>\n",
       "      <td>16562468.0</td>\n",
       "      <td>1812330.0</td>\n",
       "      <td>247507.0</td>\n",
       "    </tr>\n",
       "    <tr>\n",
       "      <th>Angelina County</th>\n",
       "      <td>15234232.0</td>\n",
       "      <td>14313117.0</td>\n",
       "      <td>14509560.0</td>\n",
       "      <td>196443.0</td>\n",
       "      <td>724672.0</td>\n",
       "    </tr>\n",
       "  </tbody>\n",
       "</table>\n",
       "</div>"
      ],
      "text/plain": [
       "Quarter          Fourth Quarter  Second Quarter  Third Quarter  \\\n",
       "Area Name                                                        \n",
       "Anderson County       7409649.0       6936358.0      6992544.0   \n",
       "Andrews County       16809975.0      14750138.0     16562468.0   \n",
       "Angelina County      15234232.0      14313117.0     14509560.0   \n",
       "\n",
       "Quarter          EV Change(Second to Third)  EV Change(Third to Fourth)  \n",
       "Area Name                                                                \n",
       "Anderson County                     56186.0                    417105.0  \n",
       "Andrews County                    1812330.0                    247507.0  \n",
       "Angelina County                    196443.0                    724672.0  "
      ]
     },
     "execution_count": 41,
     "metadata": {},
     "output_type": "execute_result"
    }
   ],
   "source": [
    "# Add columns in table_cons to show the economic change during diff quarter.\n",
    "table_cons['EV Change(Second to Third)'] = table_cons['Third Quarter'] - table_cons['Second Quarter']\n",
    "table_cons['EV Change(Third to Fourth)'] = table_cons['Fourth Quarter'] - table_cons['Third Quarter']\n",
    "table_cons.head(3)"
   ]
  },
  {
   "cell_type": "code",
   "execution_count": 42,
   "metadata": {},
   "outputs": [
    {
     "data": {
      "text/html": [
       "<div>\n",
       "<style scoped>\n",
       "    .dataframe tbody tr th:only-of-type {\n",
       "        vertical-align: middle;\n",
       "    }\n",
       "\n",
       "    .dataframe tbody tr th {\n",
       "        vertical-align: top;\n",
       "    }\n",
       "\n",
       "    .dataframe thead th {\n",
       "        text-align: right;\n",
       "    }\n",
       "</style>\n",
       "<table border=\"1\" class=\"dataframe\">\n",
       "  <thead>\n",
       "    <tr style=\"text-align: right;\">\n",
       "      <th>Quarter</th>\n",
       "      <th>Fourth Quarter</th>\n",
       "      <th>Second Quarter</th>\n",
       "      <th>Third Quarter</th>\n",
       "      <th>EV Change(Second to Third)</th>\n",
       "      <th>EV Change(Third to Fourth)</th>\n",
       "      <th>Was it impacted?</th>\n",
       "    </tr>\n",
       "    <tr>\n",
       "      <th>Area Name</th>\n",
       "      <th></th>\n",
       "      <th></th>\n",
       "      <th></th>\n",
       "      <th></th>\n",
       "      <th></th>\n",
       "      <th></th>\n",
       "    </tr>\n",
       "  </thead>\n",
       "  <tbody>\n",
       "    <tr>\n",
       "      <th>Anderson County</th>\n",
       "      <td>7409649.0</td>\n",
       "      <td>6936358.0</td>\n",
       "      <td>6992544.0</td>\n",
       "      <td>56186.0</td>\n",
       "      <td>417105.0</td>\n",
       "      <td>0</td>\n",
       "    </tr>\n",
       "    <tr>\n",
       "      <th>Andrews County</th>\n",
       "      <td>16809975.0</td>\n",
       "      <td>14750138.0</td>\n",
       "      <td>16562468.0</td>\n",
       "      <td>1812330.0</td>\n",
       "      <td>247507.0</td>\n",
       "      <td>0</td>\n",
       "    </tr>\n",
       "  </tbody>\n",
       "</table>\n",
       "</div>"
      ],
      "text/plain": [
       "Quarter          Fourth Quarter  Second Quarter  Third Quarter  \\\n",
       "Area Name                                                        \n",
       "Anderson County       7409649.0       6936358.0      6992544.0   \n",
       "Andrews County       16809975.0      14750138.0     16562468.0   \n",
       "\n",
       "Quarter          EV Change(Second to Third)  EV Change(Third to Fourth)  \\\n",
       "Area Name                                                                 \n",
       "Anderson County                     56186.0                    417105.0   \n",
       "Andrews County                    1812330.0                    247507.0   \n",
       "\n",
       "Quarter          Was it impacted?  \n",
       "Area Name                          \n",
       "Anderson County                 0  \n",
       "Andrews County                  0  "
      ]
     },
     "execution_count": 42,
     "metadata": {},
     "output_type": "execute_result"
    }
   ],
   "source": [
    "# Add columns in table_cons to show the economic change during diff quarter.\n",
    "table_cons['EV Change(Second to Third)'] = table_cons['Third Quarter'] - table_cons['Second Quarter']\n",
    "table_cons['EV Change(Third to Fourth)'] = table_cons['Fourth Quarter'] - table_cons['Third Quarter']\n",
    "\n",
    "\n",
    "# Create a column to indicate is the county impacted or not.\n",
    "table_cons['Was it impacted?'] = table_cons.index.map(dict1)\n",
    "\n",
    "table_cons.head(2)"
   ]
  },
  {
   "cell_type": "code",
   "execution_count": 43,
   "metadata": {},
   "outputs": [
    {
     "data": {
      "text/plain": [
       "Index(['Harris County', 'Fort Bend County', 'Galveston County',\n",
       "       'Nueces County', 'Hutchinson County'],\n",
       "      dtype='object', name='Area Name')"
      ]
     },
     "execution_count": 43,
     "metadata": {},
     "output_type": "execute_result"
    }
   ],
   "source": [
    "mask5 = table_cons['EV Change(Second to Third)'].sort_values().head().index\n",
    "mask5"
   ]
  },
  {
   "cell_type": "code",
   "execution_count": 44,
   "metadata": {},
   "outputs": [
    {
     "data": {
      "text/html": [
       "<div>\n",
       "<style scoped>\n",
       "    .dataframe tbody tr th:only-of-type {\n",
       "        vertical-align: middle;\n",
       "    }\n",
       "\n",
       "    .dataframe tbody tr th {\n",
       "        vertical-align: top;\n",
       "    }\n",
       "\n",
       "    .dataframe thead th {\n",
       "        text-align: right;\n",
       "    }\n",
       "</style>\n",
       "<table border=\"1\" class=\"dataframe\">\n",
       "  <thead>\n",
       "    <tr style=\"text-align: right;\">\n",
       "      <th>Area Name</th>\n",
       "      <th>Anderson County</th>\n",
       "      <th>Andrews County</th>\n",
       "      <th>Angelina County</th>\n",
       "      <th>Aransas County</th>\n",
       "      <th>Archer County</th>\n",
       "      <th>Armstrong County</th>\n",
       "      <th>Atascosa County</th>\n",
       "      <th>Austin County</th>\n",
       "      <th>Bailey County</th>\n",
       "      <th>Bandera County</th>\n",
       "      <th>...</th>\n",
       "      <th>Willacy County</th>\n",
       "      <th>Williamson County</th>\n",
       "      <th>Wilson County</th>\n",
       "      <th>Winkler County</th>\n",
       "      <th>Wise County</th>\n",
       "      <th>Wood County</th>\n",
       "      <th>Yoakum County</th>\n",
       "      <th>Young County</th>\n",
       "      <th>Zapata County</th>\n",
       "      <th>Zavala County</th>\n",
       "    </tr>\n",
       "    <tr>\n",
       "      <th>Quarter</th>\n",
       "      <th></th>\n",
       "      <th></th>\n",
       "      <th></th>\n",
       "      <th></th>\n",
       "      <th></th>\n",
       "      <th></th>\n",
       "      <th></th>\n",
       "      <th></th>\n",
       "      <th></th>\n",
       "      <th></th>\n",
       "      <th></th>\n",
       "      <th></th>\n",
       "      <th></th>\n",
       "      <th></th>\n",
       "      <th></th>\n",
       "      <th></th>\n",
       "      <th></th>\n",
       "      <th></th>\n",
       "      <th></th>\n",
       "      <th></th>\n",
       "      <th></th>\n",
       "    </tr>\n",
       "  </thead>\n",
       "  <tbody>\n",
       "    <tr>\n",
       "      <th>Fourth Quarter</th>\n",
       "      <td>7409649.0</td>\n",
       "      <td>16809975.0</td>\n",
       "      <td>15234232.0</td>\n",
       "      <td>4696263.0</td>\n",
       "      <td>1036490.0</td>\n",
       "      <td>772096.0</td>\n",
       "      <td>5092074.0</td>\n",
       "      <td>13862394.0</td>\n",
       "      <td>423072.0</td>\n",
       "      <td>2946957.0</td>\n",
       "      <td>...</td>\n",
       "      <td>393250.0</td>\n",
       "      <td>189095634.0</td>\n",
       "      <td>8327501.0</td>\n",
       "      <td>0.0</td>\n",
       "      <td>19756815.0</td>\n",
       "      <td>6323460.0</td>\n",
       "      <td>4828265.0</td>\n",
       "      <td>2417025.0</td>\n",
       "      <td>1640704.0</td>\n",
       "      <td>0.0</td>\n",
       "    </tr>\n",
       "    <tr>\n",
       "      <th>Second Quarter</th>\n",
       "      <td>6936358.0</td>\n",
       "      <td>14750138.0</td>\n",
       "      <td>14313117.0</td>\n",
       "      <td>4429152.0</td>\n",
       "      <td>1160016.0</td>\n",
       "      <td>620620.0</td>\n",
       "      <td>5349500.0</td>\n",
       "      <td>12134304.0</td>\n",
       "      <td>475800.0</td>\n",
       "      <td>3389607.0</td>\n",
       "      <td>...</td>\n",
       "      <td>402402.0</td>\n",
       "      <td>167890398.0</td>\n",
       "      <td>6937164.0</td>\n",
       "      <td>0.0</td>\n",
       "      <td>16593213.0</td>\n",
       "      <td>5743829.0</td>\n",
       "      <td>4536532.0</td>\n",
       "      <td>2066922.0</td>\n",
       "      <td>1731210.0</td>\n",
       "      <td>0.0</td>\n",
       "    </tr>\n",
       "  </tbody>\n",
       "</table>\n",
       "<p>2 rows × 251 columns</p>\n",
       "</div>"
      ],
      "text/plain": [
       "Area Name       Anderson County  Andrews County  Angelina County  \\\n",
       "Quarter                                                            \n",
       "Fourth Quarter        7409649.0      16809975.0       15234232.0   \n",
       "Second Quarter        6936358.0      14750138.0       14313117.0   \n",
       "\n",
       "Area Name       Aransas County  Archer County  Armstrong County  \\\n",
       "Quarter                                                           \n",
       "Fourth Quarter       4696263.0      1036490.0          772096.0   \n",
       "Second Quarter       4429152.0      1160016.0          620620.0   \n",
       "\n",
       "Area Name       Atascosa County  Austin County  Bailey County  Bandera County  \\\n",
       "Quarter                                                                         \n",
       "Fourth Quarter        5092074.0     13862394.0       423072.0       2946957.0   \n",
       "Second Quarter        5349500.0     12134304.0       475800.0       3389607.0   \n",
       "\n",
       "Area Name       ...  Willacy County  Williamson County  Wilson County  \\\n",
       "Quarter         ...                                                     \n",
       "Fourth Quarter  ...        393250.0        189095634.0      8327501.0   \n",
       "Second Quarter  ...        402402.0        167890398.0      6937164.0   \n",
       "\n",
       "Area Name       Winkler County  Wise County  Wood County  Yoakum County  \\\n",
       "Quarter                                                                   \n",
       "Fourth Quarter             0.0   19756815.0    6323460.0      4828265.0   \n",
       "Second Quarter             0.0   16593213.0    5743829.0      4536532.0   \n",
       "\n",
       "Area Name       Young County  Zapata County  Zavala County  \n",
       "Quarter                                                     \n",
       "Fourth Quarter     2417025.0      1640704.0            0.0  \n",
       "Second Quarter     2066922.0      1731210.0            0.0  \n",
       "\n",
       "[2 rows x 251 columns]"
      ]
     },
     "execution_count": 44,
     "metadata": {},
     "output_type": "execute_result"
    }
   ],
   "source": [
    "table_cons_t = table_cons.T\n",
    "table_cons_t.head(2)"
   ]
  },
  {
   "cell_type": "code",
   "execution_count": 45,
   "metadata": {},
   "outputs": [
    {
     "data": {
      "text/html": [
       "<div>\n",
       "<style scoped>\n",
       "    .dataframe tbody tr th:only-of-type {\n",
       "        vertical-align: middle;\n",
       "    }\n",
       "\n",
       "    .dataframe tbody tr th {\n",
       "        vertical-align: top;\n",
       "    }\n",
       "\n",
       "    .dataframe thead th {\n",
       "        text-align: right;\n",
       "    }\n",
       "</style>\n",
       "<table border=\"1\" class=\"dataframe\">\n",
       "  <thead>\n",
       "    <tr style=\"text-align: right;\">\n",
       "      <th>Area Name</th>\n",
       "      <th>Harris County</th>\n",
       "      <th>Fort Bend County</th>\n",
       "      <th>Galveston County</th>\n",
       "      <th>Nueces County</th>\n",
       "      <th>Hutchinson County</th>\n",
       "    </tr>\n",
       "    <tr>\n",
       "      <th>Quarter</th>\n",
       "      <th></th>\n",
       "      <th></th>\n",
       "      <th></th>\n",
       "      <th></th>\n",
       "      <th></th>\n",
       "    </tr>\n",
       "  </thead>\n",
       "  <tbody>\n",
       "    <tr>\n",
       "      <th>Fourth Quarter</th>\n",
       "      <td>3.020909e+09</td>\n",
       "      <td>291999708.0</td>\n",
       "      <td>105489657.0</td>\n",
       "      <td>280209644.0</td>\n",
       "      <td>15465632.0</td>\n",
       "    </tr>\n",
       "    <tr>\n",
       "      <th>Second Quarter</th>\n",
       "      <td>2.742300e+09</td>\n",
       "      <td>263454880.0</td>\n",
       "      <td>106203825.0</td>\n",
       "      <td>265555212.0</td>\n",
       "      <td>25204608.0</td>\n",
       "    </tr>\n",
       "  </tbody>\n",
       "</table>\n",
       "</div>"
      ],
      "text/plain": [
       "Area Name       Harris County  Fort Bend County  Galveston County  \\\n",
       "Quarter                                                             \n",
       "Fourth Quarter   3.020909e+09       291999708.0       105489657.0   \n",
       "Second Quarter   2.742300e+09       263454880.0       106203825.0   \n",
       "\n",
       "Area Name       Nueces County  Hutchinson County  \n",
       "Quarter                                           \n",
       "Fourth Quarter    280209644.0         15465632.0  \n",
       "Second Quarter    265555212.0         25204608.0  "
      ]
     },
     "execution_count": 45,
     "metadata": {},
     "output_type": "execute_result"
    }
   ],
   "source": [
    "df_top5_cons = table_cons_t[mask5]\n",
    "df_top5_cons.head(2)"
   ]
  },
  {
   "cell_type": "code",
   "execution_count": 46,
   "metadata": {},
   "outputs": [
    {
     "data": {
      "image/png": "[encoded data removed]",
      "text/plain": [
       "<Figure size 1080x720 with 1 Axes>"
      ]
     },
     "metadata": {
      "needs_background": "light"
     },
     "output_type": "display_data"
    }
   ],
   "source": [
    "df_top5_cons = df_top5_cons.T\n",
    "\n",
    "# Set the figsize\n",
    "plt.figure(figsize = (15,10));\n",
    "\n",
    "# plot the scatter plot\n",
    "sns.barplot(x= 'EV Change(Second to Third)',\n",
    "            y = df_top5_cons.index,\n",
    "            data = df_top5_cons);\n",
    "\n",
    "# Add the label of x and y\n",
    "plt.xlabel('Economic Value Change from Second to Third Quarter($10,000,000)',\n",
    "          fontsize = 20);\n",
    "plt.ylabel('');\n",
    "plt.title('Top 5 County Impacted',fontsize = 40);\n",
    "\n",
    "# Adject the x & y label font size\n",
    "plt.xticks(fontsize = 25);\n",
    "plt.yticks(fontsize =20);"
   ]
  },
  {
   "cell_type": "code",
   "execution_count": 47,
   "metadata": {},
   "outputs": [
    {
     "data": {
      "text/html": [
       "<div>\n",
       "<style scoped>\n",
       "    .dataframe tbody tr th:only-of-type {\n",
       "        vertical-align: middle;\n",
       "    }\n",
       "\n",
       "    .dataframe tbody tr th {\n",
       "        vertical-align: top;\n",
       "    }\n",
       "\n",
       "    .dataframe thead th {\n",
       "        text-align: right;\n",
       "    }\n",
       "</style>\n",
       "<table border=\"1\" class=\"dataframe\">\n",
       "  <thead>\n",
       "    <tr style=\"text-align: right;\">\n",
       "      <th>Quarter</th>\n",
       "      <th>Fourth Quarter</th>\n",
       "      <th>Second Quarter</th>\n",
       "      <th>Third Quarter</th>\n",
       "      <th>EV Change(Second to Third)</th>\n",
       "      <th>EV Change(Third to Fourth)</th>\n",
       "      <th>Was it impacted?</th>\n",
       "    </tr>\n",
       "    <tr>\n",
       "      <th>Area Name</th>\n",
       "      <th></th>\n",
       "      <th></th>\n",
       "      <th></th>\n",
       "      <th></th>\n",
       "      <th></th>\n",
       "      <th></th>\n",
       "    </tr>\n",
       "  </thead>\n",
       "  <tbody>\n",
       "    <tr>\n",
       "      <th>Harris County</th>\n",
       "      <td>3.020909e+09</td>\n",
       "      <td>2.742300e+09</td>\n",
       "      <td>2.609350e+09</td>\n",
       "      <td>-132950051.0</td>\n",
       "      <td>411558771.0</td>\n",
       "      <td>1.0</td>\n",
       "    </tr>\n",
       "    <tr>\n",
       "      <th>Fort Bend County</th>\n",
       "      <td>2.919997e+08</td>\n",
       "      <td>2.634549e+08</td>\n",
       "      <td>2.364716e+08</td>\n",
       "      <td>-26983255.0</td>\n",
       "      <td>55528083.0</td>\n",
       "      <td>1.0</td>\n",
       "    </tr>\n",
       "    <tr>\n",
       "      <th>Galveston County</th>\n",
       "      <td>1.054897e+08</td>\n",
       "      <td>1.062038e+08</td>\n",
       "      <td>8.804510e+07</td>\n",
       "      <td>-18158725.0</td>\n",
       "      <td>17444557.0</td>\n",
       "      <td>1.0</td>\n",
       "    </tr>\n",
       "    <tr>\n",
       "      <th>Nueces County</th>\n",
       "      <td>2.802096e+08</td>\n",
       "      <td>2.655552e+08</td>\n",
       "      <td>2.477610e+08</td>\n",
       "      <td>-17794257.0</td>\n",
       "      <td>32448689.0</td>\n",
       "      <td>1.0</td>\n",
       "    </tr>\n",
       "    <tr>\n",
       "      <th>Hutchinson County</th>\n",
       "      <td>1.546563e+07</td>\n",
       "      <td>2.520461e+07</td>\n",
       "      <td>1.423168e+07</td>\n",
       "      <td>-10972923.0</td>\n",
       "      <td>1233947.0</td>\n",
       "      <td>0.0</td>\n",
       "    </tr>\n",
       "  </tbody>\n",
       "</table>\n",
       "</div>"
      ],
      "text/plain": [
       "Quarter            Fourth Quarter  Second Quarter  Third Quarter  \\\n",
       "Area Name                                                          \n",
       "Harris County        3.020909e+09    2.742300e+09   2.609350e+09   \n",
       "Fort Bend County     2.919997e+08    2.634549e+08   2.364716e+08   \n",
       "Galveston County     1.054897e+08    1.062038e+08   8.804510e+07   \n",
       "Nueces County        2.802096e+08    2.655552e+08   2.477610e+08   \n",
       "Hutchinson County    1.546563e+07    2.520461e+07   1.423168e+07   \n",
       "\n",
       "Quarter            EV Change(Second to Third)  EV Change(Third to Fourth)  \\\n",
       "Area Name                                                                   \n",
       "Harris County                    -132950051.0                 411558771.0   \n",
       "Fort Bend County                  -26983255.0                  55528083.0   \n",
       "Galveston County                  -18158725.0                  17444557.0   \n",
       "Nueces County                     -17794257.0                  32448689.0   \n",
       "Hutchinson County                 -10972923.0                   1233947.0   \n",
       "\n",
       "Quarter            Was it impacted?  \n",
       "Area Name                            \n",
       "Harris County                   1.0  \n",
       "Fort Bend County                1.0  \n",
       "Galveston County                1.0  \n",
       "Nueces County                   1.0  \n",
       "Hutchinson County               0.0  "
      ]
     },
     "execution_count": 47,
     "metadata": {},
     "output_type": "execute_result"
    }
   ],
   "source": [
    "df_top5_cons.head()"
   ]
  },
  {
   "cell_type": "code",
   "execution_count": 48,
   "metadata": {},
   "outputs": [],
   "source": [
    "mask_Leisure_Hospitality = df.Industry == 'Leisure and Hospitality'\n",
    "df_Leisure_Hospitality = df[mask_Leisure_Hospitality]"
   ]
  },
  {
   "cell_type": "code",
   "execution_count": 49,
   "metadata": {},
   "outputs": [],
   "source": [
    "# Create a column of the total wage of county\n",
    "df['Weekly Economic Value'] = df['Employment'] * df['Average Weekly Wages']"
   ]
  },
  {
   "cell_type": "code",
   "execution_count": 50,
   "metadata": {},
   "outputs": [
    {
     "data": {
      "text/html": [
       "<div>\n",
       "<style scoped>\n",
       "    .dataframe tbody tr th:only-of-type {\n",
       "        vertical-align: middle;\n",
       "    }\n",
       "\n",
       "    .dataframe tbody tr th {\n",
       "        vertical-align: top;\n",
       "    }\n",
       "\n",
       "    .dataframe thead th {\n",
       "        text-align: right;\n",
       "    }\n",
       "</style>\n",
       "<table border=\"1\" class=\"dataframe\">\n",
       "  <thead>\n",
       "    <tr style=\"text-align: right;\">\n",
       "      <th></th>\n",
       "      <th>Area Name</th>\n",
       "      <th>Quarter</th>\n",
       "      <th>No Of Establishments</th>\n",
       "      <th>Employment</th>\n",
       "      <th>One-Year Employment Gain/Loss (Percent)</th>\n",
       "      <th>Average Weekly Wages</th>\n",
       "      <th>On-Year Weekly Wages Gain/Loss (Percent)</th>\n",
       "      <th>Industry</th>\n",
       "      <th>FIPS</th>\n",
       "      <th>Was it impacted?</th>\n",
       "      <th>Economic Value Quarterly</th>\n",
       "    </tr>\n",
       "  </thead>\n",
       "  <tbody>\n",
       "    <tr>\n",
       "      <th>0</th>\n",
       "      <td>Anderson County</td>\n",
       "      <td>Second Quarter</td>\n",
       "      <td>109.0</td>\n",
       "      <td>1666.0</td>\n",
       "      <td>3.1</td>\n",
       "      <td>275.0</td>\n",
       "      <td>1.1</td>\n",
       "      <td>Leisure and Hospitality</td>\n",
       "      <td>48001.0</td>\n",
       "      <td>0</td>\n",
       "      <td>5955950.0</td>\n",
       "    </tr>\n",
       "    <tr>\n",
       "      <th>1</th>\n",
       "      <td>Andrews County</td>\n",
       "      <td>Second Quarter</td>\n",
       "      <td>37.0</td>\n",
       "      <td>531.0</td>\n",
       "      <td>17.5</td>\n",
       "      <td>439.0</td>\n",
       "      <td>-0.9</td>\n",
       "      <td>Leisure and Hospitality</td>\n",
       "      <td>48003.0</td>\n",
       "      <td>0</td>\n",
       "      <td>3030417.0</td>\n",
       "    </tr>\n",
       "    <tr>\n",
       "      <th>2</th>\n",
       "      <td>Angelina County</td>\n",
       "      <td>Second Quarter</td>\n",
       "      <td>157.0</td>\n",
       "      <td>3549.0</td>\n",
       "      <td>7.6</td>\n",
       "      <td>302.0</td>\n",
       "      <td>-0.3</td>\n",
       "      <td>Leisure and Hospitality</td>\n",
       "      <td>48005.0</td>\n",
       "      <td>0</td>\n",
       "      <td>13933374.0</td>\n",
       "    </tr>\n",
       "    <tr>\n",
       "      <th>3</th>\n",
       "      <td>Aransas County</td>\n",
       "      <td>Second Quarter</td>\n",
       "      <td>124.0</td>\n",
       "      <td>1660.0</td>\n",
       "      <td>6.8</td>\n",
       "      <td>335.0</td>\n",
       "      <td>-0.9</td>\n",
       "      <td>Leisure and Hospitality</td>\n",
       "      <td>48007.0</td>\n",
       "      <td>1</td>\n",
       "      <td>7229300.0</td>\n",
       "    </tr>\n",
       "    <tr>\n",
       "      <th>4</th>\n",
       "      <td>Archer County</td>\n",
       "      <td>Second Quarter</td>\n",
       "      <td>8.0</td>\n",
       "      <td>60.0</td>\n",
       "      <td>50.0</td>\n",
       "      <td>222.0</td>\n",
       "      <td>-21.3</td>\n",
       "      <td>Leisure and Hospitality</td>\n",
       "      <td>48009.0</td>\n",
       "      <td>0</td>\n",
       "      <td>173160.0</td>\n",
       "    </tr>\n",
       "  </tbody>\n",
       "</table>\n",
       "</div>"
      ],
      "text/plain": [
       "         Area Name         Quarter  No Of Establishments  Employment  \\\n",
       "0  Anderson County  Second Quarter                 109.0      1666.0   \n",
       "1   Andrews County  Second Quarter                  37.0       531.0   \n",
       "2  Angelina County  Second Quarter                 157.0      3549.0   \n",
       "3   Aransas County  Second Quarter                 124.0      1660.0   \n",
       "4    Archer County  Second Quarter                   8.0        60.0   \n",
       "\n",
       "   One-Year Employment Gain/Loss (Percent)  Average Weekly Wages  \\\n",
       "0                                      3.1                 275.0   \n",
       "1                                     17.5                 439.0   \n",
       "2                                      7.6                 302.0   \n",
       "3                                      6.8                 335.0   \n",
       "4                                     50.0                 222.0   \n",
       "\n",
       "   On-Year Weekly Wages Gain/Loss (Percent)                 Industry     FIPS  \\\n",
       "0                                       1.1  Leisure and Hospitality  48001.0   \n",
       "1                                      -0.9  Leisure and Hospitality  48003.0   \n",
       "2                                      -0.3  Leisure and Hospitality  48005.0   \n",
       "3                                      -0.9  Leisure and Hospitality  48007.0   \n",
       "4                                     -21.3  Leisure and Hospitality  48009.0   \n",
       "\n",
       "   Was it impacted?  Economic Value Quarterly  \n",
       "0                 0                 5955950.0  \n",
       "1                 0                 3030417.0  \n",
       "2                 0                13933374.0  \n",
       "3                 1                 7229300.0  \n",
       "4                 0                  173160.0  "
      ]
     },
     "execution_count": 50,
     "metadata": {},
     "output_type": "execute_result"
    }
   ],
   "source": [
    "# Leisure and Hospitality\n",
    "df_hosp = df_Leisure_Hospitality\n",
    "df_hosp.head()"
   ]
  },
  {
   "cell_type": "code",
   "execution_count": 51,
   "metadata": {},
   "outputs": [
    {
     "data": {
      "text/html": [
       "<div>\n",
       "<style scoped>\n",
       "    .dataframe tbody tr th:only-of-type {\n",
       "        vertical-align: middle;\n",
       "    }\n",
       "\n",
       "    .dataframe tbody tr th {\n",
       "        vertical-align: top;\n",
       "    }\n",
       "\n",
       "    .dataframe thead th {\n",
       "        text-align: right;\n",
       "    }\n",
       "</style>\n",
       "<table border=\"1\" class=\"dataframe\">\n",
       "  <thead>\n",
       "    <tr style=\"text-align: right;\">\n",
       "      <th>Quarter</th>\n",
       "      <th>Fourth Quarter</th>\n",
       "      <th>Second Quarter</th>\n",
       "      <th>Third Quarter</th>\n",
       "    </tr>\n",
       "    <tr>\n",
       "      <th>Area Name</th>\n",
       "      <th></th>\n",
       "      <th></th>\n",
       "      <th></th>\n",
       "    </tr>\n",
       "  </thead>\n",
       "  <tbody>\n",
       "    <tr>\n",
       "      <th>Anderson County</th>\n",
       "      <td>5949216.0</td>\n",
       "      <td>5955950.0</td>\n",
       "      <td>5683392.0</td>\n",
       "    </tr>\n",
       "    <tr>\n",
       "      <th>Andrews County</th>\n",
       "      <td>3139006.0</td>\n",
       "      <td>3030417.0</td>\n",
       "      <td>2902354.0</td>\n",
       "    </tr>\n",
       "    <tr>\n",
       "      <th>Angelina County</th>\n",
       "      <td>14768000.0</td>\n",
       "      <td>13933374.0</td>\n",
       "      <td>14179776.0</td>\n",
       "    </tr>\n",
       "    <tr>\n",
       "      <th>Aransas County</th>\n",
       "      <td>4169906.0</td>\n",
       "      <td>7229300.0</td>\n",
       "      <td>3816462.0</td>\n",
       "    </tr>\n",
       "    <tr>\n",
       "      <th>Archer County</th>\n",
       "      <td>157235.0</td>\n",
       "      <td>173160.0</td>\n",
       "      <td>193492.0</td>\n",
       "    </tr>\n",
       "  </tbody>\n",
       "</table>\n",
       "</div>"
      ],
      "text/plain": [
       "Quarter          Fourth Quarter  Second Quarter  Third Quarter\n",
       "Area Name                                                     \n",
       "Anderson County       5949216.0       5955950.0      5683392.0\n",
       "Andrews County        3139006.0       3030417.0      2902354.0\n",
       "Angelina County      14768000.0      13933374.0     14179776.0\n",
       "Aransas County        4169906.0       7229300.0      3816462.0\n",
       "Archer County          157235.0        173160.0       193492.0"
      ]
     },
     "execution_count": 51,
     "metadata": {},
     "output_type": "execute_result"
    }
   ],
   "source": [
    "table_hosp=pd.pivot_table(df_hosp, values='Economic Value Quarterly', index=['Area Name'], columns=['Quarter'], aggfunc=np.sum)\n",
    "table_hosp.head()"
   ]
  },
  {
   "cell_type": "code",
   "execution_count": 52,
   "metadata": {},
   "outputs": [
    {
     "data": {
      "text/html": [
       "<div>\n",
       "<style scoped>\n",
       "    .dataframe tbody tr th:only-of-type {\n",
       "        vertical-align: middle;\n",
       "    }\n",
       "\n",
       "    .dataframe tbody tr th {\n",
       "        vertical-align: top;\n",
       "    }\n",
       "\n",
       "    .dataframe thead th {\n",
       "        text-align: right;\n",
       "    }\n",
       "</style>\n",
       "<table border=\"1\" class=\"dataframe\">\n",
       "  <thead>\n",
       "    <tr style=\"text-align: right;\">\n",
       "      <th>Quarter</th>\n",
       "      <th>Fourth Quarter</th>\n",
       "      <th>Second Quarter</th>\n",
       "      <th>Third Quarter</th>\n",
       "      <th>EV Change(Second to Third)</th>\n",
       "      <th>EV Change(Third to Fourth)</th>\n",
       "      <th>Was it impacted?</th>\n",
       "    </tr>\n",
       "    <tr>\n",
       "      <th>Area Name</th>\n",
       "      <th></th>\n",
       "      <th></th>\n",
       "      <th></th>\n",
       "      <th></th>\n",
       "      <th></th>\n",
       "      <th></th>\n",
       "    </tr>\n",
       "  </thead>\n",
       "  <tbody>\n",
       "    <tr>\n",
       "      <th>Anderson County</th>\n",
       "      <td>5949216.0</td>\n",
       "      <td>5955950.0</td>\n",
       "      <td>5683392.0</td>\n",
       "      <td>-272558.0</td>\n",
       "      <td>265824.0</td>\n",
       "      <td>0</td>\n",
       "    </tr>\n",
       "    <tr>\n",
       "      <th>Andrews County</th>\n",
       "      <td>3139006.0</td>\n",
       "      <td>3030417.0</td>\n",
       "      <td>2902354.0</td>\n",
       "      <td>-128063.0</td>\n",
       "      <td>236652.0</td>\n",
       "      <td>0</td>\n",
       "    </tr>\n",
       "  </tbody>\n",
       "</table>\n",
       "</div>"
      ],
      "text/plain": [
       "Quarter          Fourth Quarter  Second Quarter  Third Quarter  \\\n",
       "Area Name                                                        \n",
       "Anderson County       5949216.0       5955950.0      5683392.0   \n",
       "Andrews County        3139006.0       3030417.0      2902354.0   \n",
       "\n",
       "Quarter          EV Change(Second to Third)  EV Change(Third to Fourth)  \\\n",
       "Area Name                                                                 \n",
       "Anderson County                   -272558.0                    265824.0   \n",
       "Andrews County                    -128063.0                    236652.0   \n",
       "\n",
       "Quarter          Was it impacted?  \n",
       "Area Name                          \n",
       "Anderson County                 0  \n",
       "Andrews County                  0  "
      ]
     },
     "execution_count": 52,
     "metadata": {},
     "output_type": "execute_result"
    }
   ],
   "source": [
    "# Add columns in table_hosp to show the economic change during diff quarter.\n",
    "table_hosp['EV Change(Second to Third)'] = table_hosp['Third Quarter'] - table_hosp['Second Quarter']\n",
    "table_hosp['EV Change(Third to Fourth)'] = table_hosp['Fourth Quarter'] - table_hosp['Third Quarter']\n",
    "\n",
    "\n",
    "# Create a column to indicate is the county impacted or not.\n",
    "table_hosp['Was it impacted?'] = table_hosp.index.map(dict1)\n",
    "\n",
    "table_hosp.head(2)"
   ]
  },
  {
   "cell_type": "code",
   "execution_count": 53,
   "metadata": {},
   "outputs": [
    {
     "data": {
      "text/html": [
       "<div>\n",
       "<style scoped>\n",
       "    .dataframe tbody tr th:only-of-type {\n",
       "        vertical-align: middle;\n",
       "    }\n",
       "\n",
       "    .dataframe tbody tr th {\n",
       "        vertical-align: top;\n",
       "    }\n",
       "\n",
       "    .dataframe thead th {\n",
       "        text-align: right;\n",
       "    }\n",
       "</style>\n",
       "<table border=\"1\" class=\"dataframe\">\n",
       "  <thead>\n",
       "    <tr style=\"text-align: right;\">\n",
       "      <th>Area Name</th>\n",
       "      <th>Harris County</th>\n",
       "      <th>Fort Bend County</th>\n",
       "      <th>Galveston County</th>\n",
       "      <th>Nueces County</th>\n",
       "      <th>Hutchinson County</th>\n",
       "    </tr>\n",
       "    <tr>\n",
       "      <th>Quarter</th>\n",
       "      <th></th>\n",
       "      <th></th>\n",
       "      <th></th>\n",
       "      <th></th>\n",
       "      <th></th>\n",
       "    </tr>\n",
       "  </thead>\n",
       "  <tbody>\n",
       "    <tr>\n",
       "      <th>Fourth Quarter</th>\n",
       "      <td>1.459666e+09</td>\n",
       "      <td>124972848.0</td>\n",
       "      <td>89890944.0</td>\n",
       "      <td>100389510.0</td>\n",
       "      <td>2394275.0</td>\n",
       "    </tr>\n",
       "    <tr>\n",
       "      <th>Second Quarter</th>\n",
       "      <td>1.389953e+09</td>\n",
       "      <td>119396550.0</td>\n",
       "      <td>96656950.0</td>\n",
       "      <td>106112565.0</td>\n",
       "      <td>2641392.0</td>\n",
       "    </tr>\n",
       "  </tbody>\n",
       "</table>\n",
       "</div>"
      ],
      "text/plain": [
       "Area Name       Harris County  Fort Bend County  Galveston County  \\\n",
       "Quarter                                                             \n",
       "Fourth Quarter   1.459666e+09       124972848.0        89890944.0   \n",
       "Second Quarter   1.389953e+09       119396550.0        96656950.0   \n",
       "\n",
       "Area Name       Nueces County  Hutchinson County  \n",
       "Quarter                                           \n",
       "Fourth Quarter    100389510.0          2394275.0  \n",
       "Second Quarter    106112565.0          2641392.0  "
      ]
     },
     "execution_count": 53,
     "metadata": {},
     "output_type": "execute_result"
    }
   ],
   "source": [
    "# convert the table column and row \n",
    "table_hosp_t = table_hosp.T\n",
    "# take the county in top 5\n",
    "df_top5_hosp = table_hosp_t[mask5]\n",
    "df_top5_hosp.head(2)"
   ]
  },
  {
   "cell_type": "code",
   "execution_count": 54,
   "metadata": {},
   "outputs": [
    {
     "data": {
      "image/png": "[encoded data removed]",
      "text/plain": [
       "<Figure size 1080x720 with 1 Axes>"
      ]
     },
     "metadata": {
      "needs_background": "light"
     },
     "output_type": "display_data"
    }
   ],
   "source": [
    "df_top5_hosp = df_top5_hosp.T\n",
    "\n",
    "df_top5_hosp.head()\n",
    "\n",
    "# Set the figsize\n",
    "plt.figure(figsize = (15,10));\n",
    "\n",
    "# plot the scatter plot\n",
    "sns.barplot(x= 'EV Change(Second to Third)',\n",
    "            y = df_top5_hosp.index,\n",
    "            data = df_top5_hosp);\n",
    "\n",
    "# Add the label of x and y\n",
    "plt.xlabel('Economic Value Change from Second to Third Quarter',\n",
    "          fontsize = 20);\n",
    "plt.ylabel('');\n",
    "plt.title('Top 5 County Impacted',fontsize = 40);\n",
    "\n",
    "# Adject the x & y label font size\n",
    "plt.xticks(fontsize = 25);\n",
    "plt.yticks(fontsize =20);"
   ]
  },
  {
   "cell_type": "code",
   "execution_count": 55,
   "metadata": {},
   "outputs": [],
   "source": [
    "#creating a mask for industry of education\n",
    "mask_edu = df.Industry == 'Education and Health Services'\n",
    "df_edu = df[mask_edu]\n",
    "\n",
    "mask_prof = df.Industry == 'Professional and Business Services'\n",
    "df_prof = df[mask_prof]\n",
    "\n",
    "mask_fin = df.Industry == 'Financial Activities'\n",
    "df_fin = df[mask_fin]\n",
    "\n",
    "\n",
    "mask_info = df.Industry == 'Information'\n",
    "df_info = df[mask_prof]\n",
    "\n",
    "mask_man = df.Industry == 'Manufacturing'\n",
    "df_man = df[mask_man]\n",
    "\n",
    "mask_nat = df.Industry == 'Natural Resources and Mining'\n",
    "df_nat = df[mask_nat]\n",
    "\n",
    "mask_un = df.Industry == 'Unclassified'\n",
    "df_un = df[mask_un]\n",
    "\n",
    "mask_os = df.Industry == 'Other Services'\n",
    "df_os = df[mask_un]\n",
    "\n",
    "mask_trad = df.Industry == 'Trade, Transportation, and Utilities'\n",
    "df_trad = df[mask_trad]"
   ]
  },
  {
   "cell_type": "markdown",
   "metadata": {},
   "source": [
    "## Next Steps\n"
   ]
  },
  {
   "cell_type": "markdown",
   "metadata": {},
   "source": [
    "This notebook has focused exclusively on the economic impact in the relationships between Industries and Counties. The next notebook, Wage Loss Quarter by Quarter, will delve into the impacts over time to industries and counties. "
   ]
  }
 ],
 "metadata": {
  "kernelspec": {
   "display_name": "Python 3",
   "language": "python",
   "name": "python3"
  },
  "language_info": {
   "codemirror_mode": {
    "name": "ipython",
    "version": 3
   },
   "file_extension": ".py",
   "mimetype": "text/x-python",
   "name": "python",
   "nbconvert_exporter": "python",
   "pygments_lexer": "ipython3",
   "version": "3.7.1"
  }
 },
 "nbformat": 4,
 "nbformat_minor": 2
}
