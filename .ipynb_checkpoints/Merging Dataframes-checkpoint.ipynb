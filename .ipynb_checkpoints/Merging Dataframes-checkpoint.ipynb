{
 "cells": [
  {
   "cell_type": "code",
   "execution_count": 149,
   "metadata": {},
   "outputs": [],
   "source": [
    "import pandas as pd"
   ]
  },
  {
   "cell_type": "code",
   "execution_count": 150,
   "metadata": {},
   "outputs": [],
   "source": [
    "# read in csv file for q2 and save as dataframe\n",
    "q2_df = pd.read_csv('./data/BLS_Data_Q2_17/q2_df.csv')"
   ]
  },
  {
   "cell_type": "code",
   "execution_count": 151,
   "metadata": {},
   "outputs": [
    {
     "data": {
      "text/html": [
       "<div>\n",
       "<style scoped>\n",
       "    .dataframe tbody tr th:only-of-type {\n",
       "        vertical-align: middle;\n",
       "    }\n",
       "\n",
       "    .dataframe tbody tr th {\n",
       "        vertical-align: top;\n",
       "    }\n",
       "\n",
       "    .dataframe thead th {\n",
       "        text-align: right;\n",
       "    }\n",
       "</style>\n",
       "<table border=\"1\" class=\"dataframe\">\n",
       "  <thead>\n",
       "    <tr style=\"text-align: right;\">\n",
       "      <th></th>\n",
       "      <th>Unnamed: 0</th>\n",
       "      <th>Area Name</th>\n",
       "      <th>Quarter</th>\n",
       "      <th>No Of Establishments</th>\n",
       "      <th>Employment</th>\n",
       "      <th>One-Year Employment Gain/Loss (Percent)</th>\n",
       "      <th>Average Weekly Wages</th>\n",
       "      <th>On-Year Weekly Wages Gain/Loss (Percent)</th>\n",
       "      <th>Industry</th>\n",
       "      <th>FIPS</th>\n",
       "    </tr>\n",
       "  </thead>\n",
       "  <tbody>\n",
       "    <tr>\n",
       "      <th>0</th>\n",
       "      <td>0</td>\n",
       "      <td>Anderson County</td>\n",
       "      <td>Second Quarter</td>\n",
       "      <td>109.0</td>\n",
       "      <td>1666.0</td>\n",
       "      <td>3.1</td>\n",
       "      <td>275.0</td>\n",
       "      <td>1.1</td>\n",
       "      <td>Leisure and Hospitality</td>\n",
       "      <td>48001.0</td>\n",
       "    </tr>\n",
       "    <tr>\n",
       "      <th>1</th>\n",
       "      <td>1</td>\n",
       "      <td>Andrews County</td>\n",
       "      <td>Second Quarter</td>\n",
       "      <td>37.0</td>\n",
       "      <td>531.0</td>\n",
       "      <td>17.5</td>\n",
       "      <td>439.0</td>\n",
       "      <td>-0.9</td>\n",
       "      <td>Leisure and Hospitality</td>\n",
       "      <td>48003.0</td>\n",
       "    </tr>\n",
       "    <tr>\n",
       "      <th>2</th>\n",
       "      <td>2</td>\n",
       "      <td>Angelina County</td>\n",
       "      <td>Second Quarter</td>\n",
       "      <td>157.0</td>\n",
       "      <td>3549.0</td>\n",
       "      <td>7.6</td>\n",
       "      <td>302.0</td>\n",
       "      <td>-0.3</td>\n",
       "      <td>Leisure and Hospitality</td>\n",
       "      <td>48005.0</td>\n",
       "    </tr>\n",
       "    <tr>\n",
       "      <th>3</th>\n",
       "      <td>3</td>\n",
       "      <td>Aransas County</td>\n",
       "      <td>Second Quarter</td>\n",
       "      <td>124.0</td>\n",
       "      <td>1660.0</td>\n",
       "      <td>6.8</td>\n",
       "      <td>335.0</td>\n",
       "      <td>-0.9</td>\n",
       "      <td>Leisure and Hospitality</td>\n",
       "      <td>48007.0</td>\n",
       "    </tr>\n",
       "    <tr>\n",
       "      <th>4</th>\n",
       "      <td>4</td>\n",
       "      <td>Archer County</td>\n",
       "      <td>Second Quarter</td>\n",
       "      <td>8.0</td>\n",
       "      <td>60.0</td>\n",
       "      <td>50.0</td>\n",
       "      <td>222.0</td>\n",
       "      <td>-21.3</td>\n",
       "      <td>Leisure and Hospitality</td>\n",
       "      <td>48009.0</td>\n",
       "    </tr>\n",
       "  </tbody>\n",
       "</table>\n",
       "</div>"
      ],
      "text/plain": [
       "   Unnamed: 0        Area Name         Quarter  No Of Establishments  \\\n",
       "0           0  Anderson County  Second Quarter                 109.0   \n",
       "1           1   Andrews County  Second Quarter                  37.0   \n",
       "2           2  Angelina County  Second Quarter                 157.0   \n",
       "3           3   Aransas County  Second Quarter                 124.0   \n",
       "4           4    Archer County  Second Quarter                   8.0   \n",
       "\n",
       "   Employment  One-Year Employment Gain/Loss (Percent)  Average Weekly Wages  \\\n",
       "0      1666.0                                      3.1                 275.0   \n",
       "1       531.0                                     17.5                 439.0   \n",
       "2      3549.0                                      7.6                 302.0   \n",
       "3      1660.0                                      6.8                 335.0   \n",
       "4        60.0                                     50.0                 222.0   \n",
       "\n",
       "   On-Year Weekly Wages Gain/Loss (Percent)                 Industry     FIPS  \n",
       "0                                       1.1  Leisure and Hospitality  48001.0  \n",
       "1                                      -0.9  Leisure and Hospitality  48003.0  \n",
       "2                                      -0.3  Leisure and Hospitality  48005.0  \n",
       "3                                      -0.9  Leisure and Hospitality  48007.0  \n",
       "4                                     -21.3  Leisure and Hospitality  48009.0  "
      ]
     },
     "execution_count": 151,
     "metadata": {},
     "output_type": "execute_result"
    }
   ],
   "source": [
    "# examine q2_df \n",
    "q2_df.head()"
   ]
  },
  {
   "cell_type": "code",
   "execution_count": 152,
   "metadata": {},
   "outputs": [
    {
     "data": {
      "text/plain": [
       "(2705, 10)"
      ]
     },
     "execution_count": 152,
     "metadata": {},
     "output_type": "execute_result"
    }
   ],
   "source": [
    "#check shape of q2_df\n",
    "q2_df.shape"
   ]
  },
  {
   "cell_type": "code",
   "execution_count": 153,
   "metadata": {},
   "outputs": [],
   "source": [
    "# drop extra index column 'Unnamed: 0'\n",
    "q2_df.drop(columns=['Unnamed: 0'],inplace=True)"
   ]
  },
  {
   "cell_type": "code",
   "execution_count": 154,
   "metadata": {},
   "outputs": [
    {
     "data": {
      "text/html": [
       "<div>\n",
       "<style scoped>\n",
       "    .dataframe tbody tr th:only-of-type {\n",
       "        vertical-align: middle;\n",
       "    }\n",
       "\n",
       "    .dataframe tbody tr th {\n",
       "        vertical-align: top;\n",
       "    }\n",
       "\n",
       "    .dataframe thead th {\n",
       "        text-align: right;\n",
       "    }\n",
       "</style>\n",
       "<table border=\"1\" class=\"dataframe\">\n",
       "  <thead>\n",
       "    <tr style=\"text-align: right;\">\n",
       "      <th></th>\n",
       "      <th>Area Name</th>\n",
       "      <th>Quarter</th>\n",
       "      <th>No Of Establishments</th>\n",
       "      <th>Employment</th>\n",
       "      <th>One-Year Employment Gain/Loss (Percent)</th>\n",
       "      <th>Average Weekly Wages</th>\n",
       "      <th>On-Year Weekly Wages Gain/Loss (Percent)</th>\n",
       "      <th>Industry</th>\n",
       "      <th>FIPS</th>\n",
       "    </tr>\n",
       "  </thead>\n",
       "  <tbody>\n",
       "    <tr>\n",
       "      <th>0</th>\n",
       "      <td>Anderson County</td>\n",
       "      <td>Second Quarter</td>\n",
       "      <td>109.0</td>\n",
       "      <td>1666.0</td>\n",
       "      <td>3.1</td>\n",
       "      <td>275.0</td>\n",
       "      <td>1.1</td>\n",
       "      <td>Leisure and Hospitality</td>\n",
       "      <td>48001.0</td>\n",
       "    </tr>\n",
       "    <tr>\n",
       "      <th>1</th>\n",
       "      <td>Andrews County</td>\n",
       "      <td>Second Quarter</td>\n",
       "      <td>37.0</td>\n",
       "      <td>531.0</td>\n",
       "      <td>17.5</td>\n",
       "      <td>439.0</td>\n",
       "      <td>-0.9</td>\n",
       "      <td>Leisure and Hospitality</td>\n",
       "      <td>48003.0</td>\n",
       "    </tr>\n",
       "    <tr>\n",
       "      <th>2</th>\n",
       "      <td>Angelina County</td>\n",
       "      <td>Second Quarter</td>\n",
       "      <td>157.0</td>\n",
       "      <td>3549.0</td>\n",
       "      <td>7.6</td>\n",
       "      <td>302.0</td>\n",
       "      <td>-0.3</td>\n",
       "      <td>Leisure and Hospitality</td>\n",
       "      <td>48005.0</td>\n",
       "    </tr>\n",
       "    <tr>\n",
       "      <th>3</th>\n",
       "      <td>Aransas County</td>\n",
       "      <td>Second Quarter</td>\n",
       "      <td>124.0</td>\n",
       "      <td>1660.0</td>\n",
       "      <td>6.8</td>\n",
       "      <td>335.0</td>\n",
       "      <td>-0.9</td>\n",
       "      <td>Leisure and Hospitality</td>\n",
       "      <td>48007.0</td>\n",
       "    </tr>\n",
       "    <tr>\n",
       "      <th>4</th>\n",
       "      <td>Archer County</td>\n",
       "      <td>Second Quarter</td>\n",
       "      <td>8.0</td>\n",
       "      <td>60.0</td>\n",
       "      <td>50.0</td>\n",
       "      <td>222.0</td>\n",
       "      <td>-21.3</td>\n",
       "      <td>Leisure and Hospitality</td>\n",
       "      <td>48009.0</td>\n",
       "    </tr>\n",
       "  </tbody>\n",
       "</table>\n",
       "</div>"
      ],
      "text/plain": [
       "         Area Name         Quarter  No Of Establishments  Employment  \\\n",
       "0  Anderson County  Second Quarter                 109.0      1666.0   \n",
       "1   Andrews County  Second Quarter                  37.0       531.0   \n",
       "2  Angelina County  Second Quarter                 157.0      3549.0   \n",
       "3   Aransas County  Second Quarter                 124.0      1660.0   \n",
       "4    Archer County  Second Quarter                   8.0        60.0   \n",
       "\n",
       "   One-Year Employment Gain/Loss (Percent)  Average Weekly Wages  \\\n",
       "0                                      3.1                 275.0   \n",
       "1                                     17.5                 439.0   \n",
       "2                                      7.6                 302.0   \n",
       "3                                      6.8                 335.0   \n",
       "4                                     50.0                 222.0   \n",
       "\n",
       "   On-Year Weekly Wages Gain/Loss (Percent)                 Industry     FIPS  \n",
       "0                                       1.1  Leisure and Hospitality  48001.0  \n",
       "1                                      -0.9  Leisure and Hospitality  48003.0  \n",
       "2                                      -0.3  Leisure and Hospitality  48005.0  \n",
       "3                                      -0.9  Leisure and Hospitality  48007.0  \n",
       "4                                     -21.3  Leisure and Hospitality  48009.0  "
      ]
     },
     "execution_count": 154,
     "metadata": {},
     "output_type": "execute_result"
    }
   ],
   "source": [
    "# verify the 'Unnamed: 0' column dropped\n",
    "q2_df.head()"
   ]
  },
  {
   "cell_type": "code",
   "execution_count": 155,
   "metadata": {},
   "outputs": [],
   "source": [
    "# read in q3 csv data and save as dataframe\n",
    "q3_df = pd.read_csv('./data/BLS_Data_Q3_17/q3_df.csv')"
   ]
  },
  {
   "cell_type": "code",
   "execution_count": 156,
   "metadata": {},
   "outputs": [
    {
     "data": {
      "text/plain": [
       "(2724, 10)"
      ]
     },
     "execution_count": 156,
     "metadata": {},
     "output_type": "execute_result"
    }
   ],
   "source": [
    "#check shape of q3_df\n",
    "q3_df.shape"
   ]
  },
  {
   "cell_type": "code",
   "execution_count": 157,
   "metadata": {},
   "outputs": [],
   "source": [
    "#drop the extra index column \"Unnamed: 0\"\n",
    "q3_df = q3_df.drop(columns=['Unnamed: 0'])"
   ]
  },
  {
   "cell_type": "code",
   "execution_count": 158,
   "metadata": {},
   "outputs": [],
   "source": [
    "#import and save q4 data as a dataframe\n",
    "q4_df = pd.read_csv('./data/BLS_Data_Q4_17/q4_df.csv')"
   ]
  },
  {
   "cell_type": "code",
   "execution_count": 159,
   "metadata": {},
   "outputs": [
    {
     "data": {
      "text/html": [
       "<div>\n",
       "<style scoped>\n",
       "    .dataframe tbody tr th:only-of-type {\n",
       "        vertical-align: middle;\n",
       "    }\n",
       "\n",
       "    .dataframe tbody tr th {\n",
       "        vertical-align: top;\n",
       "    }\n",
       "\n",
       "    .dataframe thead th {\n",
       "        text-align: right;\n",
       "    }\n",
       "</style>\n",
       "<table border=\"1\" class=\"dataframe\">\n",
       "  <thead>\n",
       "    <tr style=\"text-align: right;\">\n",
       "      <th></th>\n",
       "      <th>Unnamed: 0</th>\n",
       "      <th>Unnamed: 0.1</th>\n",
       "      <th>Area Name</th>\n",
       "      <th>Quarter</th>\n",
       "      <th>No Of Establishments</th>\n",
       "      <th>Employment</th>\n",
       "      <th>One-Year Employment Gain/Loss (Percent)</th>\n",
       "      <th>Average Weekly Wages</th>\n",
       "      <th>On-Year Weekly Wages Gain/Loss (Percent)</th>\n",
       "      <th>Industry</th>\n",
       "      <th>FIPS</th>\n",
       "    </tr>\n",
       "  </thead>\n",
       "  <tbody>\n",
       "    <tr>\n",
       "      <th>0</th>\n",
       "      <td>0</td>\n",
       "      <td>0</td>\n",
       "      <td>Anderson County</td>\n",
       "      <td>Fourth Quarter</td>\n",
       "      <td>106.0</td>\n",
       "      <td>607.0</td>\n",
       "      <td>-12.8</td>\n",
       "      <td>939.0</td>\n",
       "      <td>27.2</td>\n",
       "      <td>Construction</td>\n",
       "      <td>48001.0</td>\n",
       "    </tr>\n",
       "    <tr>\n",
       "      <th>1</th>\n",
       "      <td>1</td>\n",
       "      <td>1</td>\n",
       "      <td>Andrews County</td>\n",
       "      <td>Fourth Quarter</td>\n",
       "      <td>37.0</td>\n",
       "      <td>821.0</td>\n",
       "      <td>9.8</td>\n",
       "      <td>1575.0</td>\n",
       "      <td>12.7</td>\n",
       "      <td>Construction</td>\n",
       "      <td>48003.0</td>\n",
       "    </tr>\n",
       "    <tr>\n",
       "      <th>2</th>\n",
       "      <td>2</td>\n",
       "      <td>2</td>\n",
       "      <td>Angelina County</td>\n",
       "      <td>Fourth Quarter</td>\n",
       "      <td>147.0</td>\n",
       "      <td>1369.0</td>\n",
       "      <td>-8.7</td>\n",
       "      <td>856.0</td>\n",
       "      <td>6.3</td>\n",
       "      <td>Construction</td>\n",
       "      <td>48005.0</td>\n",
       "    </tr>\n",
       "    <tr>\n",
       "      <th>3</th>\n",
       "      <td>3</td>\n",
       "      <td>3</td>\n",
       "      <td>Aransas County</td>\n",
       "      <td>Fourth Quarter</td>\n",
       "      <td>67.0</td>\n",
       "      <td>369.0</td>\n",
       "      <td>-3.1</td>\n",
       "      <td>979.0</td>\n",
       "      <td>-5.9</td>\n",
       "      <td>Construction</td>\n",
       "      <td>48007.0</td>\n",
       "    </tr>\n",
       "    <tr>\n",
       "      <th>4</th>\n",
       "      <td>4</td>\n",
       "      <td>4</td>\n",
       "      <td>Archer County</td>\n",
       "      <td>Fourth Quarter</td>\n",
       "      <td>36.0</td>\n",
       "      <td>119.0</td>\n",
       "      <td>0.8</td>\n",
       "      <td>670.0</td>\n",
       "      <td>2.6</td>\n",
       "      <td>Construction</td>\n",
       "      <td>48009.0</td>\n",
       "    </tr>\n",
       "  </tbody>\n",
       "</table>\n",
       "</div>"
      ],
      "text/plain": [
       "   Unnamed: 0  Unnamed: 0.1        Area Name         Quarter  \\\n",
       "0           0             0  Anderson County  Fourth Quarter   \n",
       "1           1             1   Andrews County  Fourth Quarter   \n",
       "2           2             2  Angelina County  Fourth Quarter   \n",
       "3           3             3   Aransas County  Fourth Quarter   \n",
       "4           4             4    Archer County  Fourth Quarter   \n",
       "\n",
       "   No Of Establishments  Employment  One-Year Employment Gain/Loss (Percent)  \\\n",
       "0                 106.0       607.0                                    -12.8   \n",
       "1                  37.0       821.0                                      9.8   \n",
       "2                 147.0      1369.0                                     -8.7   \n",
       "3                  67.0       369.0                                     -3.1   \n",
       "4                  36.0       119.0                                      0.8   \n",
       "\n",
       "   Average Weekly Wages  On-Year Weekly Wages Gain/Loss (Percent)  \\\n",
       "0                 939.0                                      27.2   \n",
       "1                1575.0                                      12.7   \n",
       "2                 856.0                                       6.3   \n",
       "3                 979.0                                      -5.9   \n",
       "4                 670.0                                       2.6   \n",
       "\n",
       "       Industry     FIPS  \n",
       "0  Construction  48001.0  \n",
       "1  Construction  48003.0  \n",
       "2  Construction  48005.0  \n",
       "3  Construction  48007.0  \n",
       "4  Construction  48009.0  "
      ]
     },
     "execution_count": 159,
     "metadata": {},
     "output_type": "execute_result"
    }
   ],
   "source": [
    "#examine q4 dataframe\n",
    "q4_df.head()"
   ]
  },
  {
   "cell_type": "code",
   "execution_count": 160,
   "metadata": {},
   "outputs": [],
   "source": [
    "#remove the two extra index columns for q4_df\n",
    "q4_df = q4_df.drop(columns= ['Unnamed: 0', 'Unnamed: 0.1'])"
   ]
  },
  {
   "cell_type": "code",
   "execution_count": 161,
   "metadata": {},
   "outputs": [
    {
     "data": {
      "text/html": [
       "<div>\n",
       "<style scoped>\n",
       "    .dataframe tbody tr th:only-of-type {\n",
       "        vertical-align: middle;\n",
       "    }\n",
       "\n",
       "    .dataframe tbody tr th {\n",
       "        vertical-align: top;\n",
       "    }\n",
       "\n",
       "    .dataframe thead th {\n",
       "        text-align: right;\n",
       "    }\n",
       "</style>\n",
       "<table border=\"1\" class=\"dataframe\">\n",
       "  <thead>\n",
       "    <tr style=\"text-align: right;\">\n",
       "      <th></th>\n",
       "      <th>Area Name</th>\n",
       "      <th>Quarter</th>\n",
       "      <th>No Of Establishments</th>\n",
       "      <th>Employment</th>\n",
       "      <th>One-Year Employment Gain/Loss (Percent)</th>\n",
       "      <th>Average Weekly Wages</th>\n",
       "      <th>On-Year Weekly Wages Gain/Loss (Percent)</th>\n",
       "      <th>Industry</th>\n",
       "      <th>FIPS</th>\n",
       "    </tr>\n",
       "  </thead>\n",
       "  <tbody>\n",
       "    <tr>\n",
       "      <th>0</th>\n",
       "      <td>Anderson County</td>\n",
       "      <td>Fourth Quarter</td>\n",
       "      <td>106.0</td>\n",
       "      <td>607.0</td>\n",
       "      <td>-12.8</td>\n",
       "      <td>939.0</td>\n",
       "      <td>27.2</td>\n",
       "      <td>Construction</td>\n",
       "      <td>48001.0</td>\n",
       "    </tr>\n",
       "    <tr>\n",
       "      <th>1</th>\n",
       "      <td>Andrews County</td>\n",
       "      <td>Fourth Quarter</td>\n",
       "      <td>37.0</td>\n",
       "      <td>821.0</td>\n",
       "      <td>9.8</td>\n",
       "      <td>1575.0</td>\n",
       "      <td>12.7</td>\n",
       "      <td>Construction</td>\n",
       "      <td>48003.0</td>\n",
       "    </tr>\n",
       "    <tr>\n",
       "      <th>2</th>\n",
       "      <td>Angelina County</td>\n",
       "      <td>Fourth Quarter</td>\n",
       "      <td>147.0</td>\n",
       "      <td>1369.0</td>\n",
       "      <td>-8.7</td>\n",
       "      <td>856.0</td>\n",
       "      <td>6.3</td>\n",
       "      <td>Construction</td>\n",
       "      <td>48005.0</td>\n",
       "    </tr>\n",
       "    <tr>\n",
       "      <th>3</th>\n",
       "      <td>Aransas County</td>\n",
       "      <td>Fourth Quarter</td>\n",
       "      <td>67.0</td>\n",
       "      <td>369.0</td>\n",
       "      <td>-3.1</td>\n",
       "      <td>979.0</td>\n",
       "      <td>-5.9</td>\n",
       "      <td>Construction</td>\n",
       "      <td>48007.0</td>\n",
       "    </tr>\n",
       "    <tr>\n",
       "      <th>4</th>\n",
       "      <td>Archer County</td>\n",
       "      <td>Fourth Quarter</td>\n",
       "      <td>36.0</td>\n",
       "      <td>119.0</td>\n",
       "      <td>0.8</td>\n",
       "      <td>670.0</td>\n",
       "      <td>2.6</td>\n",
       "      <td>Construction</td>\n",
       "      <td>48009.0</td>\n",
       "    </tr>\n",
       "  </tbody>\n",
       "</table>\n",
       "</div>"
      ],
      "text/plain": [
       "         Area Name         Quarter  No Of Establishments  Employment  \\\n",
       "0  Anderson County  Fourth Quarter                 106.0       607.0   \n",
       "1   Andrews County  Fourth Quarter                  37.0       821.0   \n",
       "2  Angelina County  Fourth Quarter                 147.0      1369.0   \n",
       "3   Aransas County  Fourth Quarter                  67.0       369.0   \n",
       "4    Archer County  Fourth Quarter                  36.0       119.0   \n",
       "\n",
       "   One-Year Employment Gain/Loss (Percent)  Average Weekly Wages  \\\n",
       "0                                    -12.8                 939.0   \n",
       "1                                      9.8                1575.0   \n",
       "2                                     -8.7                 856.0   \n",
       "3                                     -3.1                 979.0   \n",
       "4                                      0.8                 670.0   \n",
       "\n",
       "   On-Year Weekly Wages Gain/Loss (Percent)      Industry     FIPS  \n",
       "0                                      27.2  Construction  48001.0  \n",
       "1                                      12.7  Construction  48003.0  \n",
       "2                                       6.3  Construction  48005.0  \n",
       "3                                      -5.9  Construction  48007.0  \n",
       "4                                       2.6  Construction  48009.0  "
      ]
     },
     "execution_count": 161,
     "metadata": {},
     "output_type": "execute_result"
    }
   ],
   "source": [
    "#verify the columns dropped succesfully\n",
    "q4_df.head()"
   ]
  },
  {
   "cell_type": "code",
   "execution_count": 162,
   "metadata": {},
   "outputs": [
    {
     "data": {
      "text/plain": [
       "(2725, 9)"
      ]
     },
     "execution_count": 162,
     "metadata": {},
     "output_type": "execute_result"
    }
   ],
   "source": [
    "#check shape of q4_df\n",
    "q4_df.shape"
   ]
  },
  {
   "cell_type": "code",
   "execution_count": 163,
   "metadata": {},
   "outputs": [],
   "source": [
    "df_list = [q2_df, q3_df, q4_df]"
   ]
  },
  {
   "cell_type": "code",
   "execution_count": 164,
   "metadata": {},
   "outputs": [],
   "source": [
    "q2_q3_q4 = pd.concat([q2_df, q3_df, q4_df])"
   ]
  },
  {
   "cell_type": "code",
   "execution_count": 165,
   "metadata": {},
   "outputs": [
    {
     "data": {
      "text/plain": [
       "(8154, 9)"
      ]
     },
     "execution_count": 165,
     "metadata": {},
     "output_type": "execute_result"
    }
   ],
   "source": [
    "q2_q3_q4.shape"
   ]
  },
  {
   "cell_type": "code",
   "execution_count": 166,
   "metadata": {},
   "outputs": [],
   "source": [
    "q2_q3_q4.to_csv('./data/q2_q3_q4.csv')"
   ]
  },
  {
   "cell_type": "code",
   "execution_count": null,
   "metadata": {},
   "outputs": [],
   "source": []
  }
 ],
 "metadata": {
  "kernelspec": {
   "display_name": "Python 3",
   "language": "python",
   "name": "python3"
  },
  "language_info": {
   "codemirror_mode": {
    "name": "ipython",
    "version": 3
   },
   "file_extension": ".py",
   "mimetype": "text/x-python",
   "name": "python",
   "nbconvert_exporter": "python",
   "pygments_lexer": "ipython3",
   "version": "3.7.1"
  }
 },
 "nbformat": 4,
 "nbformat_minor": 2
}
